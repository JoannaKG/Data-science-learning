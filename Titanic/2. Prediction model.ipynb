{
 "cells": [
  {
   "cell_type": "markdown",
   "metadata": {},
   "source": [
    "# 2. Building predicion model"
   ]
  },
  {
   "cell_type": "markdown",
   "metadata": {},
   "source": [
    "## 2.1 Data import and preprocessing"
   ]
  },
  {
   "cell_type": "code",
   "execution_count": 1,
   "metadata": {
    "pycharm": {
     "name": "#%%\n"
    }
   },
   "outputs": [],
   "source": [
    "import pandas as pd\n",
    "import numpy as np\n",
    "import matplotlib.pyplot as plt\n",
    "from sklearn.model_selection import train_test_split\n",
    "from sklearn.preprocessing import StandardScaler"
   ]
  },
  {
   "cell_type": "code",
   "execution_count": 2,
   "metadata": {
    "pycharm": {
     "name": "#%%\n"
    },
    "scrolled": true
   },
   "outputs": [],
   "source": [
    "df_train = pd.read_csv('E:\\\\PycharmProjects\\\\Kaggle\\\\Titanic\\\\data\\\\df_train.csv')\n",
    "df_Kaggle = pd.read_csv('E:\\\\PycharmProjects\\\\Kaggle\\\\Titanic\\\\data\\\\df_test_Kaggle.csv')"
   ]
  },
  {
   "cell_type": "code",
   "execution_count": 3,
   "metadata": {
    "pycharm": {
     "name": "#%%\n"
    }
   },
   "outputs": [
    {
     "data": {
      "text/html": [
       "<div>\n",
       "<style scoped>\n",
       "    .dataframe tbody tr th:only-of-type {\n",
       "        vertical-align: middle;\n",
       "    }\n",
       "\n",
       "    .dataframe tbody tr th {\n",
       "        vertical-align: top;\n",
       "    }\n",
       "\n",
       "    .dataframe thead th {\n",
       "        text-align: right;\n",
       "    }\n",
       "</style>\n",
       "<table border=\"1\" class=\"dataframe\">\n",
       "  <thead>\n",
       "    <tr style=\"text-align: right;\">\n",
       "      <th></th>\n",
       "      <th>PassengerId</th>\n",
       "      <th>Survived</th>\n",
       "      <th>Pclass</th>\n",
       "      <th>Age</th>\n",
       "      <th>Family_size</th>\n",
       "      <th>Ticket_frequency</th>\n",
       "      <th>Survival_rate</th>\n",
       "      <th>Fare_per_person</th>\n",
       "      <th>Sex_2</th>\n",
       "      <th>Embarked_2</th>\n",
       "      <th>Embarked_3</th>\n",
       "      <th>Deck_2</th>\n",
       "      <th>Deck_3</th>\n",
       "    </tr>\n",
       "  </thead>\n",
       "  <tbody>\n",
       "    <tr>\n",
       "      <th>0</th>\n",
       "      <td>1</td>\n",
       "      <td>0.0</td>\n",
       "      <td>3</td>\n",
       "      <td>22.0</td>\n",
       "      <td>2</td>\n",
       "      <td>1</td>\n",
       "      <td>0.00</td>\n",
       "      <td>7.25000</td>\n",
       "      <td>1.0</td>\n",
       "      <td>0.0</td>\n",
       "      <td>1.0</td>\n",
       "      <td>0.0</td>\n",
       "      <td>1.0</td>\n",
       "    </tr>\n",
       "    <tr>\n",
       "      <th>1</th>\n",
       "      <td>2</td>\n",
       "      <td>1.0</td>\n",
       "      <td>1</td>\n",
       "      <td>38.0</td>\n",
       "      <td>2</td>\n",
       "      <td>2</td>\n",
       "      <td>0.25</td>\n",
       "      <td>35.64165</td>\n",
       "      <td>0.0</td>\n",
       "      <td>0.0</td>\n",
       "      <td>0.0</td>\n",
       "      <td>0.0</td>\n",
       "      <td>0.0</td>\n",
       "    </tr>\n",
       "    <tr>\n",
       "      <th>2</th>\n",
       "      <td>3</td>\n",
       "      <td>1.0</td>\n",
       "      <td>3</td>\n",
       "      <td>26.0</td>\n",
       "      <td>1</td>\n",
       "      <td>1</td>\n",
       "      <td>1.00</td>\n",
       "      <td>7.92500</td>\n",
       "      <td>0.0</td>\n",
       "      <td>0.0</td>\n",
       "      <td>1.0</td>\n",
       "      <td>0.0</td>\n",
       "      <td>1.0</td>\n",
       "    </tr>\n",
       "    <tr>\n",
       "      <th>3</th>\n",
       "      <td>4</td>\n",
       "      <td>1.0</td>\n",
       "      <td>1</td>\n",
       "      <td>35.0</td>\n",
       "      <td>2</td>\n",
       "      <td>2</td>\n",
       "      <td>0.25</td>\n",
       "      <td>26.55000</td>\n",
       "      <td>0.0</td>\n",
       "      <td>0.0</td>\n",
       "      <td>1.0</td>\n",
       "      <td>0.0</td>\n",
       "      <td>0.0</td>\n",
       "    </tr>\n",
       "    <tr>\n",
       "      <th>4</th>\n",
       "      <td>5</td>\n",
       "      <td>0.0</td>\n",
       "      <td>3</td>\n",
       "      <td>35.0</td>\n",
       "      <td>1</td>\n",
       "      <td>1</td>\n",
       "      <td>0.00</td>\n",
       "      <td>8.05000</td>\n",
       "      <td>1.0</td>\n",
       "      <td>0.0</td>\n",
       "      <td>1.0</td>\n",
       "      <td>0.0</td>\n",
       "      <td>1.0</td>\n",
       "    </tr>\n",
       "  </tbody>\n",
       "</table>\n",
       "</div>"
      ],
      "text/plain": [
       "   PassengerId  Survived  Pclass   Age  Family_size  Ticket_frequency  \\\n",
       "0            1       0.0       3  22.0            2                 1   \n",
       "1            2       1.0       1  38.0            2                 2   \n",
       "2            3       1.0       3  26.0            1                 1   \n",
       "3            4       1.0       1  35.0            2                 2   \n",
       "4            5       0.0       3  35.0            1                 1   \n",
       "\n",
       "   Survival_rate  Fare_per_person  Sex_2  Embarked_2  Embarked_3  Deck_2  \\\n",
       "0           0.00          7.25000    1.0         0.0         1.0     0.0   \n",
       "1           0.25         35.64165    0.0         0.0         0.0     0.0   \n",
       "2           1.00          7.92500    0.0         0.0         1.0     0.0   \n",
       "3           0.25         26.55000    0.0         0.0         1.0     0.0   \n",
       "4           0.00          8.05000    1.0         0.0         1.0     0.0   \n",
       "\n",
       "   Deck_3  \n",
       "0     1.0  \n",
       "1     0.0  \n",
       "2     1.0  \n",
       "3     0.0  \n",
       "4     1.0  "
      ]
     },
     "execution_count": 3,
     "metadata": {},
     "output_type": "execute_result"
    }
   ],
   "source": [
    "df_train.head()"
   ]
  },
  {
   "cell_type": "code",
   "execution_count": 4,
   "metadata": {
    "pycharm": {
     "name": "#%%\n"
    },
    "scrolled": true
   },
   "outputs": [
    {
     "data": {
      "text/html": [
       "<div>\n",
       "<style scoped>\n",
       "    .dataframe tbody tr th:only-of-type {\n",
       "        vertical-align: middle;\n",
       "    }\n",
       "\n",
       "    .dataframe tbody tr th {\n",
       "        vertical-align: top;\n",
       "    }\n",
       "\n",
       "    .dataframe thead th {\n",
       "        text-align: right;\n",
       "    }\n",
       "</style>\n",
       "<table border=\"1\" class=\"dataframe\">\n",
       "  <thead>\n",
       "    <tr style=\"text-align: right;\">\n",
       "      <th></th>\n",
       "      <th>PassengerId</th>\n",
       "      <th>Survived</th>\n",
       "      <th>Pclass</th>\n",
       "      <th>Age</th>\n",
       "      <th>Family_size</th>\n",
       "      <th>Ticket_frequency</th>\n",
       "      <th>Survival_rate</th>\n",
       "      <th>Fare_per_person</th>\n",
       "      <th>Sex_2</th>\n",
       "      <th>Embarked_2</th>\n",
       "      <th>Embarked_3</th>\n",
       "      <th>Deck_2</th>\n",
       "      <th>Deck_3</th>\n",
       "    </tr>\n",
       "  </thead>\n",
       "  <tbody>\n",
       "    <tr>\n",
       "      <th>0</th>\n",
       "      <td>892</td>\n",
       "      <td>NaN</td>\n",
       "      <td>3</td>\n",
       "      <td>34.5</td>\n",
       "      <td>1</td>\n",
       "      <td>1</td>\n",
       "      <td>0.00</td>\n",
       "      <td>7.82920</td>\n",
       "      <td>1.0</td>\n",
       "      <td>1.0</td>\n",
       "      <td>0.0</td>\n",
       "      <td>0.0</td>\n",
       "      <td>1.0</td>\n",
       "    </tr>\n",
       "    <tr>\n",
       "      <th>1</th>\n",
       "      <td>893</td>\n",
       "      <td>NaN</td>\n",
       "      <td>3</td>\n",
       "      <td>47.0</td>\n",
       "      <td>2</td>\n",
       "      <td>1</td>\n",
       "      <td>0.00</td>\n",
       "      <td>7.00000</td>\n",
       "      <td>0.0</td>\n",
       "      <td>0.0</td>\n",
       "      <td>1.0</td>\n",
       "      <td>0.0</td>\n",
       "      <td>1.0</td>\n",
       "    </tr>\n",
       "    <tr>\n",
       "      <th>2</th>\n",
       "      <td>894</td>\n",
       "      <td>NaN</td>\n",
       "      <td>2</td>\n",
       "      <td>62.0</td>\n",
       "      <td>1</td>\n",
       "      <td>1</td>\n",
       "      <td>0.00</td>\n",
       "      <td>9.68750</td>\n",
       "      <td>1.0</td>\n",
       "      <td>1.0</td>\n",
       "      <td>0.0</td>\n",
       "      <td>0.0</td>\n",
       "      <td>1.0</td>\n",
       "    </tr>\n",
       "    <tr>\n",
       "      <th>3</th>\n",
       "      <td>895</td>\n",
       "      <td>NaN</td>\n",
       "      <td>3</td>\n",
       "      <td>27.0</td>\n",
       "      <td>1</td>\n",
       "      <td>1</td>\n",
       "      <td>0.00</td>\n",
       "      <td>8.66250</td>\n",
       "      <td>1.0</td>\n",
       "      <td>0.0</td>\n",
       "      <td>1.0</td>\n",
       "      <td>0.0</td>\n",
       "      <td>1.0</td>\n",
       "    </tr>\n",
       "    <tr>\n",
       "      <th>4</th>\n",
       "      <td>896</td>\n",
       "      <td>NaN</td>\n",
       "      <td>3</td>\n",
       "      <td>22.0</td>\n",
       "      <td>3</td>\n",
       "      <td>2</td>\n",
       "      <td>0.25</td>\n",
       "      <td>6.14375</td>\n",
       "      <td>0.0</td>\n",
       "      <td>0.0</td>\n",
       "      <td>1.0</td>\n",
       "      <td>0.0</td>\n",
       "      <td>1.0</td>\n",
       "    </tr>\n",
       "  </tbody>\n",
       "</table>\n",
       "</div>"
      ],
      "text/plain": [
       "   PassengerId  Survived  Pclass   Age  Family_size  Ticket_frequency  \\\n",
       "0          892       NaN       3  34.5            1                 1   \n",
       "1          893       NaN       3  47.0            2                 1   \n",
       "2          894       NaN       2  62.0            1                 1   \n",
       "3          895       NaN       3  27.0            1                 1   \n",
       "4          896       NaN       3  22.0            3                 2   \n",
       "\n",
       "   Survival_rate  Fare_per_person  Sex_2  Embarked_2  Embarked_3  Deck_2  \\\n",
       "0           0.00          7.82920    1.0         1.0         0.0     0.0   \n",
       "1           0.00          7.00000    0.0         0.0         1.0     0.0   \n",
       "2           0.00          9.68750    1.0         1.0         0.0     0.0   \n",
       "3           0.00          8.66250    1.0         0.0         1.0     0.0   \n",
       "4           0.25          6.14375    0.0         0.0         1.0     0.0   \n",
       "\n",
       "   Deck_3  \n",
       "0     1.0  \n",
       "1     1.0  \n",
       "2     1.0  \n",
       "3     1.0  \n",
       "4     1.0  "
      ]
     },
     "execution_count": 4,
     "metadata": {},
     "output_type": "execute_result"
    }
   ],
   "source": [
    "df_Kaggle.head()"
   ]
  },
  {
   "cell_type": "code",
   "execution_count": 5,
   "metadata": {
    "pycharm": {
     "name": "#%% md\n"
    }
   },
   "outputs": [],
   "source": [
    "drop_columns=['PassengerId', 'Survived']\n",
    "X = df_train.drop(columns=drop_columns)\n",
    "y = df_train['Survived']"
   ]
  },
  {
   "cell_type": "markdown",
   "metadata": {},
   "source": [
    "I will split train data into train and test set in order to check quality of prediction on test set"
   ]
  },
  {
   "cell_type": "code",
   "execution_count": 6,
   "metadata": {
    "pycharm": {
     "name": "#%%\n"
    }
   },
   "outputs": [],
   "source": [
    "X_train_s, X_test_s, y_train, y_test = train_test_split(X, y, test_size=0.2, random_state=1)\n",
    "X_Kaggle_s = df_Kaggle.drop(columns=drop_columns)"
   ]
  },
  {
   "cell_type": "code",
   "execution_count": 7,
   "metadata": {},
   "outputs": [],
   "source": [
    "from sklearn.metrics import classification_report, confusion_matrix, accuracy_score\n",
    "\n",
    "def report(y_pred):\n",
    "    print('\\nClassification report')    \n",
    "    print(classification_report(y_test, y_pred))\n",
    "    print('\\nConfusion matrix')\n",
    "    print(confusion_matrix(y_test, y_pred))\n",
    "    print('\\n')"
   ]
  },
  {
   "cell_type": "code",
   "execution_count": 8,
   "metadata": {},
   "outputs": [],
   "source": [
    "def save(y_pred, model_name):\n",
    "    submission = pd.DataFrame({\n",
    "            \"PassengerId\": df_Kaggle[\"PassengerId\"],\n",
    "            \"Survived\": y_pred\n",
    "            },dtype=np.int32)\n",
    "    submission.to_csv('E:\\\\PycharmProjects\\\\Kaggle\\\\Titanic\\\\data\\\\submission_' + model_name + '.csv', index=False)\n",
    "    return submission"
   ]
  },
  {
   "cell_type": "markdown",
   "metadata": {
    "pycharm": {
     "name": "#%%\n"
    }
   },
   "source": [
    "## 2.2. Prediction with various models"
   ]
  },
  {
   "cell_type": "code",
   "execution_count": 9,
   "metadata": {
    "pycharm": {
     "name": "#%%\n"
    }
   },
   "outputs": [],
   "source": [
    "from sklearn.linear_model import LogisticRegression\n",
    "# from sklearn.ensemble import RandomForestRegressor\n",
    "from sklearn.ensemble import RandomForestClassifier\n",
    "from sklearn.tree import DecisionTreeClassifier\n",
    "from xgboost import XGBClassifier\n",
    "from sklearn.linear_model import SGDClassifier\n",
    "from sklearn.naive_bayes import GaussianNB\n",
    "from sklearn.svm import SVC\n",
    "from sklearn.neighbors import KNeighborsClassifier\n",
    "from sklearn.model_selection import cross_val_score\n",
    "from sklearn.inspection import permutation_importance"
   ]
  },
  {
   "cell_type": "code",
   "execution_count": 10,
   "metadata": {
    "pycharm": {
     "name": "#%%\n"
    }
   },
   "outputs": [],
   "source": [
    "models = {'Logistic Regression' : LogisticRegression(max_iter=500),\n",
    "          'Random forest' : RandomForestClassifier(random_state=0),\n",
    "          'Decision tree': DecisionTreeClassifier(),\n",
    "          'XGDBoost' : XGBClassifier(use_label_encoder=False, eval_metric='logloss'),\n",
    "          'Stochastic gradient descent' : SGDClassifier(random_state=0),\n",
    "          'Naive Bayes' : GaussianNB(),\n",
    "          'Support Vector Classifier' : SVC(C=0.1, gamma=1, kernel='linear'),\n",
    "          'KNN' : KNeighborsClassifier(n_neighbors=3)\n",
    "         }"
   ]
  },
  {
   "cell_type": "code",
   "execution_count": 11,
   "metadata": {
    "scrolled": true
   },
   "outputs": [
    {
     "name": "stdout",
     "output_type": "stream",
     "text": [
      "\n",
      "Logistic Regression\n",
      "\n",
      "Classification report\n",
      "              precision    recall  f1-score   support\n",
      "\n",
      "         0.0       0.92      0.96      0.94       106\n",
      "         1.0       0.94      0.88      0.91        73\n",
      "\n",
      "    accuracy                           0.93       179\n",
      "   macro avg       0.93      0.92      0.92       179\n",
      "weighted avg       0.93      0.93      0.93       179\n",
      "\n",
      "\n",
      "Confusion matrix\n",
      "[[102   4]\n",
      " [  9  64]]\n",
      "\n",
      "\n",
      "Accuracy: 0.927\n",
      "Model coefficients\n",
      "Premutation importance\n",
      "Feature: Pclass, Score: 0.0475\n",
      "Feature: Age, Score: 0.0222\n",
      "Feature: Family_size, Score: 0.0051\n",
      "Feature: Ticket_frequency, Score: 0.0157\n",
      "Feature: Survival_rate, Score: 0.2683\n",
      "Feature: Fare_per_person, Score: -0.0003\n",
      "Feature: Sex_2, Score: 0.0966\n",
      "Feature: Embarked_2, Score: -0.0008\n",
      "Feature: Embarked_3, Score: -0.0003\n",
      "Feature: Deck_2, Score: 0.0014\n",
      "Feature: Deck_3, Score: -0.0006\n"
     ]
    },
    {
     "data": {
      "image/png": "[encoded data removed]",
      "text/plain": [
       "<Figure size 720x432 with 1 Axes>"
      ]
     },
     "metadata": {
      "needs_background": "light"
     },
     "output_type": "display_data"
    },
    {
     "name": "stdout",
     "output_type": "stream",
     "text": [
      "\n",
      "Random forest\n",
      "\n",
      "Classification report\n",
      "              precision    recall  f1-score   support\n",
      "\n",
      "         0.0       0.96      0.97      0.97       106\n",
      "         1.0       0.96      0.95      0.95        73\n",
      "\n",
      "    accuracy                           0.96       179\n",
      "   macro avg       0.96      0.96      0.96       179\n",
      "weighted avg       0.96      0.96      0.96       179\n",
      "\n",
      "\n",
      "Confusion matrix\n",
      "[[103   3]\n",
      " [  4  69]]\n",
      "\n",
      "\n",
      "Accuracy: 0.961\n",
      "Premutation importance\n",
      "Feature: Pclass, Score: 0.0011\n",
      "Feature: Age, Score: 0.0258\n",
      "Feature: Family_size, Score: 0.0051\n",
      "Feature: Ticket_frequency, Score: 0.0051\n",
      "Feature: Survival_rate, Score: 0.3736\n",
      "Feature: Fare_per_person, Score: 0.0051\n",
      "Feature: Sex_2, Score: 0.0823\n",
      "Feature: Embarked_2, Score: 0.0000\n",
      "Feature: Embarked_3, Score: 0.0020\n",
      "Feature: Deck_2, Score: 0.0020\n",
      "Feature: Deck_3, Score: 0.0051\n"
     ]
    },
    {
     "data": {
      "image/png": "[encoded data removed]",
      "text/plain": [
       "<Figure size 720x432 with 1 Axes>"
      ]
     },
     "metadata": {
      "needs_background": "light"
     },
     "output_type": "display_data"
    },
    {
     "name": "stdout",
     "output_type": "stream",
     "text": [
      "feature     Survival_rate  Sex_2    Age  Fare_per_person  Pclass  \\\n",
      "importance          0.612  0.158  0.057             0.05   0.031   \n",
      "\n",
      "feature     Ticket_frequency  Family_size  Deck_3  Deck_2  Embarked_3  \\\n",
      "importance              0.03        0.026   0.019   0.008       0.007   \n",
      "\n",
      "feature     Embarked_2  \n",
      "importance       0.002  \n"
     ]
    },
    {
     "data": {
      "text/plain": [
       "<Figure size 432x288 with 0 Axes>"
      ]
     },
     "metadata": {},
     "output_type": "display_data"
    },
    {
     "data": {
      "image/png": "[encoded data removed]",
      "text/plain": [
       "<Figure size 720x432 with 1 Axes>"
      ]
     },
     "metadata": {
      "needs_background": "light"
     },
     "output_type": "display_data"
    },
    {
     "name": "stdout",
     "output_type": "stream",
     "text": [
      "\n",
      "Decision tree\n",
      "\n",
      "Classification report\n",
      "              precision    recall  f1-score   support\n",
      "\n",
      "         0.0       0.95      1.00      0.98       106\n",
      "         1.0       1.00      0.93      0.96        73\n",
      "\n",
      "    accuracy                           0.97       179\n",
      "   macro avg       0.98      0.97      0.97       179\n",
      "weighted avg       0.97      0.97      0.97       179\n",
      "\n",
      "\n",
      "Confusion matrix\n",
      "[[106   0]\n",
      " [  5  68]]\n",
      "\n",
      "\n",
      "Accuracy: 0.972\n",
      "Premutation importance\n",
      "Feature: Pclass, Score: 0.0017\n",
      "Feature: Age, Score: 0.0272\n",
      "Feature: Family_size, Score: 0.0079\n",
      "Feature: Ticket_frequency, Score: 0.0163\n",
      "Feature: Survival_rate, Score: 0.3952\n",
      "Feature: Fare_per_person, Score: 0.0048\n",
      "Feature: Sex_2, Score: 0.0809\n",
      "Feature: Embarked_2, Score: 0.0000\n",
      "Feature: Embarked_3, Score: 0.0025\n",
      "Feature: Deck_2, Score: 0.0073\n",
      "Feature: Deck_3, Score: 0.0000\n"
     ]
    },
    {
     "data": {
      "image/png": "[encoded data removed]",
      "text/plain": [
       "<Figure size 720x432 with 1 Axes>"
      ]
     },
     "metadata": {
      "needs_background": "light"
     },
     "output_type": "display_data"
    },
    {
     "name": "stdout",
     "output_type": "stream",
     "text": [
      "feature     Survival_rate  Sex_2    Age  Ticket_frequency  Family_size  \\\n",
      "importance          0.859  0.053  0.051             0.012        0.007   \n",
      "\n",
      "feature     Fare_per_person  Embarked_3  Deck_2  Pclass  Embarked_2  Deck_3  \n",
      "importance            0.007       0.005   0.004   0.003         0.0     0.0  \n"
     ]
    },
    {
     "data": {
      "text/plain": [
       "<Figure size 432x288 with 0 Axes>"
      ]
     },
     "metadata": {},
     "output_type": "display_data"
    },
    {
     "data": {
      "image/png": "[encoded data removed]",
      "text/plain": [
       "<Figure size 720x432 with 1 Axes>"
      ]
     },
     "metadata": {
      "needs_background": "light"
     },
     "output_type": "display_data"
    },
    {
     "name": "stdout",
     "output_type": "stream",
     "text": [
      "\n",
      "XGDBoost\n",
      "\n",
      "Classification report\n",
      "              precision    recall  f1-score   support\n",
      "\n",
      "         0.0       0.96      0.99      0.98       106\n",
      "         1.0       0.99      0.95      0.97        73\n",
      "\n",
      "    accuracy                           0.97       179\n",
      "   macro avg       0.97      0.97      0.97       179\n",
      "weighted avg       0.97      0.97      0.97       179\n",
      "\n",
      "\n",
      "Confusion matrix\n",
      "[[105   1]\n",
      " [  4  69]]\n",
      "\n",
      "\n",
      "Accuracy: 0.972\n",
      "Premutation importance\n",
      "Feature: Pclass, Score: 0.0000\n",
      "Feature: Age, Score: 0.0303\n",
      "Feature: Family_size, Score: 0.0062\n",
      "Feature: Ticket_frequency, Score: 0.0039\n",
      "Feature: Survival_rate, Score: 0.3980\n",
      "Feature: Fare_per_person, Score: 0.0031\n",
      "Feature: Sex_2, Score: 0.0840\n",
      "Feature: Embarked_2, Score: 0.0000\n",
      "Feature: Embarked_3, Score: 0.0034\n",
      "Feature: Deck_2, Score: 0.0000\n",
      "Feature: Deck_3, Score: 0.0062\n"
     ]
    },
    {
     "data": {
      "image/png": "[encoded data removed]",
      "text/plain": [
       "<Figure size 720x432 with 1 Axes>"
      ]
     },
     "metadata": {
      "needs_background": "light"
     },
     "output_type": "display_data"
    },
    {
     "name": "stdout",
     "output_type": "stream",
     "text": [
      "feature     Survival_rate  Sex_2    Age  Deck_3  Family_size  \\\n",
      "importance          0.741  0.164  0.026   0.017        0.013   \n",
      "\n",
      "feature     Ticket_frequency  Embarked_3  Pclass  Fare_per_person  Embarked_2  \\\n",
      "importance             0.012       0.012   0.008            0.007         0.0   \n",
      "\n",
      "feature     Deck_2  \n",
      "importance     0.0  \n"
     ]
    },
    {
     "data": {
      "text/plain": [
       "<Figure size 432x288 with 0 Axes>"
      ]
     },
     "metadata": {},
     "output_type": "display_data"
    },
    {
     "data": {
      "image/png": "[encoded data removed]",
      "text/plain": [
       "<Figure size 720x432 with 1 Axes>"
      ]
     },
     "metadata": {
      "needs_background": "light"
     },
     "output_type": "display_data"
    },
    {
     "name": "stdout",
     "output_type": "stream",
     "text": [
      "\n",
      "Stochastic gradient descent\n",
      "\n",
      "Classification report\n",
      "              precision    recall  f1-score   support\n",
      "\n",
      "         0.0       0.93      0.95      0.94       106\n",
      "         1.0       0.93      0.89      0.91        73\n",
      "\n",
      "    accuracy                           0.93       179\n",
      "   macro avg       0.93      0.92      0.92       179\n",
      "weighted avg       0.93      0.93      0.93       179\n",
      "\n",
      "\n",
      "Confusion matrix\n",
      "[[101   5]\n",
      " [  8  65]]\n",
      "\n",
      "\n",
      "Accuracy: 0.927\n",
      "Model coefficients\n",
      "Feature: Pclass, Score: 0.0000\n",
      "Feature: Age, Score: 0.0303\n",
      "Feature: Family_size, Score: 0.0062\n",
      "Feature: Ticket_frequency, Score: 0.0039\n",
      "Feature: Survival_rate, Score: 0.3980\n",
      "Feature: Fare_per_person, Score: 0.0031\n",
      "Feature: Sex_2, Score: 0.0840\n",
      "Feature: Embarked_2, Score: 0.0000\n",
      "Feature: Embarked_3, Score: 0.0034\n",
      "Feature: Deck_2, Score: 0.0000\n",
      "Feature: Deck_3, Score: 0.0062\n"
     ]
    },
    {
     "data": {
      "image/png": "[encoded data removed]",
      "text/plain": [
       "<Figure size 720x432 with 1 Axes>"
      ]
     },
     "metadata": {
      "needs_background": "light"
     },
     "output_type": "display_data"
    },
    {
     "name": "stdout",
     "output_type": "stream",
     "text": [
      "Premutation importance\n",
      "Feature: Pclass, Score: 0.0211\n",
      "Feature: Age, Score: -0.0090\n",
      "Feature: Family_size, Score: 0.0110\n",
      "Feature: Ticket_frequency, Score: 0.0180\n",
      "Feature: Survival_rate, Score: 0.2281\n",
      "Feature: Fare_per_person, Score: 0.0022\n",
      "Feature: Sex_2, Score: 0.0941\n",
      "Feature: Embarked_2, Score: 0.0000\n",
      "Feature: Embarked_3, Score: -0.0048\n",
      "Feature: Deck_2, Score: 0.0051\n",
      "Feature: Deck_3, Score: 0.0006\n"
     ]
    },
    {
     "data": {
      "image/png": "[encoded data removed]",
      "text/plain": [
       "<Figure size 720x432 with 1 Axes>"
      ]
     },
     "metadata": {
      "needs_background": "light"
     },
     "output_type": "display_data"
    },
    {
     "name": "stdout",
     "output_type": "stream",
     "text": [
      "\n",
      "Naive Bayes\n",
      "\n",
      "Classification report\n",
      "              precision    recall  f1-score   support\n",
      "\n",
      "         0.0       0.93      0.87      0.90       106\n",
      "         1.0       0.82      0.90      0.86        73\n",
      "\n",
      "    accuracy                           0.88       179\n",
      "   macro avg       0.88      0.89      0.88       179\n",
      "weighted avg       0.89      0.88      0.88       179\n",
      "\n",
      "\n",
      "Confusion matrix\n",
      "[[92 14]\n",
      " [ 7 66]]\n",
      "\n",
      "\n",
      "Accuracy: 0.883\n",
      "Premutation importance\n",
      "Feature: Pclass, Score: -0.0084\n",
      "Feature: Age, Score: 0.0008\n",
      "Feature: Family_size, Score: 0.0020\n",
      "Feature: Ticket_frequency, Score: 0.0020\n",
      "Feature: Survival_rate, Score: 0.2778\n",
      "Feature: Fare_per_person, Score: -0.0045\n",
      "Feature: Sex_2, Score: 0.0118\n",
      "Feature: Embarked_2, Score: -0.0003\n",
      "Feature: Embarked_3, Score: 0.0014\n",
      "Feature: Deck_2, Score: 0.0348\n",
      "Feature: Deck_3, Score: -0.0051\n"
     ]
    },
    {
     "data": {
      "image/png": "[encoded data removed]",
      "text/plain": [
       "<Figure size 720x432 with 1 Axes>"
      ]
     },
     "metadata": {
      "needs_background": "light"
     },
     "output_type": "display_data"
    },
    {
     "name": "stdout",
     "output_type": "stream",
     "text": [
      "\n",
      "Support Vector Classifier\n",
      "\n",
      "Classification report\n",
      "              precision    recall  f1-score   support\n",
      "\n",
      "         0.0       0.92      0.96      0.94       106\n",
      "         1.0       0.94      0.88      0.91        73\n",
      "\n",
      "    accuracy                           0.93       179\n",
      "   macro avg       0.93      0.92      0.92       179\n",
      "weighted avg       0.93      0.93      0.93       179\n",
      "\n",
      "\n",
      "Confusion matrix\n",
      "[[102   4]\n",
      " [  9  64]]\n",
      "\n",
      "\n",
      "Accuracy: 0.927\n",
      "Model coefficients\n",
      "Feature: Pclass, Score: -0.0084\n",
      "Feature: Age, Score: 0.0008\n",
      "Feature: Family_size, Score: 0.0020\n",
      "Feature: Ticket_frequency, Score: 0.0020\n",
      "Feature: Survival_rate, Score: 0.2778\n",
      "Feature: Fare_per_person, Score: -0.0045\n",
      "Feature: Sex_2, Score: 0.0118\n",
      "Feature: Embarked_2, Score: -0.0003\n",
      "Feature: Embarked_3, Score: 0.0014\n",
      "Feature: Deck_2, Score: 0.0348\n",
      "Feature: Deck_3, Score: -0.0051\n"
     ]
    },
    {
     "data": {
      "image/png": "[encoded data removed]",
      "text/plain": [
       "<Figure size 720x432 with 1 Axes>"
      ]
     },
     "metadata": {
      "needs_background": "light"
     },
     "output_type": "display_data"
    },
    {
     "name": "stdout",
     "output_type": "stream",
     "text": [
      "Premutation importance\n",
      "Feature: Pclass, Score: 0.0736\n",
      "Feature: Age, Score: 0.0289\n",
      "Feature: Family_size, Score: 0.0107\n",
      "Feature: Ticket_frequency, Score: 0.0079\n",
      "Feature: Survival_rate, Score: 0.2514\n",
      "Feature: Fare_per_person, Score: -0.0008\n",
      "Feature: Sex_2, Score: 0.0997\n",
      "Feature: Embarked_2, Score: 0.0014\n",
      "Feature: Embarked_3, Score: 0.0020\n",
      "Feature: Deck_2, Score: -0.0000\n",
      "Feature: Deck_3, Score: -0.0006\n"
     ]
    },
    {
     "data": {
      "image/png": "[encoded data removed]",
      "text/plain": [
       "<Figure size 720x432 with 1 Axes>"
      ]
     },
     "metadata": {
      "needs_background": "light"
     },
     "output_type": "display_data"
    },
    {
     "name": "stdout",
     "output_type": "stream",
     "text": [
      "\n",
      "KNN\n",
      "\n",
      "Classification report\n",
      "              precision    recall  f1-score   support\n",
      "\n",
      "         0.0       0.93      0.96      0.94       106\n",
      "         1.0       0.94      0.89      0.92        73\n",
      "\n",
      "    accuracy                           0.93       179\n",
      "   macro avg       0.93      0.93      0.93       179\n",
      "weighted avg       0.93      0.93      0.93       179\n",
      "\n",
      "\n",
      "Confusion matrix\n",
      "[[102   4]\n",
      " [  8  65]]\n",
      "\n",
      "\n",
      "Accuracy: 0.933\n",
      "Premutation importance\n",
      "Feature: Pclass, Score: 0.0152\n",
      "Feature: Age, Score: 0.0354\n",
      "Feature: Family_size, Score: 0.0183\n",
      "Feature: Ticket_frequency, Score: 0.0253\n",
      "Feature: Survival_rate, Score: 0.1986\n",
      "Feature: Fare_per_person, Score: 0.0073\n",
      "Feature: Sex_2, Score: 0.1143\n",
      "Feature: Embarked_2, Score: 0.0048\n",
      "Feature: Embarked_3, Score: 0.0126\n",
      "Feature: Deck_2, Score: 0.0225\n",
      "Feature: Deck_3, Score: 0.0031\n"
     ]
    },
    {
     "data": {
      "image/png": "[encoded data removed]",
      "text/plain": [
       "<Figure size 720x432 with 1 Axes>"
      ]
     },
     "metadata": {
      "needs_background": "light"
     },
     "output_type": "display_data"
    }
   ],
   "source": [
    "model_names = []\n",
    "accuracy = []\n",
    "\n",
    "for model_name, model in models.items():\n",
    "    if model_name == 'KNN':\n",
    "        sc = StandardScaler()\n",
    "        X_train = sc.fit_transform(X_train_s)\n",
    "        X_test = sc.transform(X_test_s)\n",
    "        X_Kaggle = sc.transform(df_Kaggle.drop(columns=drop_columns))\n",
    "    else:\n",
    "        X_train = X_train_s\n",
    "        X_test = X_test_s\n",
    "        X_Kaggle = X_Kaggle_s\n",
    "    \n",
    "    model.fit(X_train, y_train)\n",
    "    y_Kaggle = model.predict(X_Kaggle)\n",
    "    y_pred = model.predict(X_test)\n",
    "    submission = save(y_Kaggle, model_name)\n",
    "    print('\\n'+model_name)\n",
    "    model_names.append(model_name)\n",
    "    report(y_pred)\n",
    "    acc = accuracy_score(y_test, y_pred)\n",
    "    print('Accuracy: ' + str(round(acc,3)))\n",
    "    accuracy.append(acc)\n",
    "\n",
    "# Visualisation of feature importances\n",
    "    try: #for Logistic regression etc.\n",
    "        importances = model.coef_[0]\n",
    "        print('Model coefficients')\n",
    "        for i,v in enumerate(importance):\n",
    "            print('Feature: %s, Score: %.4f' % (X.columns[i],v))\n",
    "        importances = pd.Series(importance)\n",
    "        importances.index=X.columns\n",
    "        importances = importances.sort_values(ascending=False)\n",
    "        plt.figure(figsize=(10,6))\n",
    "        ax = importances.plot(kind='bar')\n",
    "        plt.show()\n",
    "    except:\n",
    "        pass\n",
    "    \n",
    "    try: #for KNN\n",
    "        # perform permutation importance\n",
    "        results = permutation_importance(model, X_train, y_train, scoring='accuracy')\n",
    "        # get importance\n",
    "        importance = results.importances_mean\n",
    "        print('Premutation importance')\n",
    "        for i,v in enumerate(importance):\n",
    "            print('Feature: %s, Score: %.4f' % (X.columns[i],v))\n",
    "        importances = pd.Series(importance)\n",
    "        importances.index = X.columns\n",
    "        importances = importances.sort_values(ascending=False)\n",
    "        plt.figure(figsize=(10,6))\n",
    "        ax = importances.plot(kind='bar')\n",
    "        plt.show()\n",
    "    except:\n",
    "        pass\n",
    "    \n",
    "    try: #for Random Forest etc.\n",
    "        importances = pd.DataFrame({'feature':X.columns,'importance':np.round(model.feature_importances_,3)})\n",
    "        importances = importances.sort_values('importance',ascending=False).set_index('feature')\n",
    "        print(importances.T)\n",
    "        plt.figure()\n",
    "        importances.plot.bar(figsize=(10,6))\n",
    "        plt.show()\n",
    "    except(AttributeError):\n",
    "        pass"
   ]
  },
  {
   "cell_type": "markdown",
   "metadata": {},
   "source": [
    "## SVC Grid search"
   ]
  },
  {
   "cell_type": "code",
   "execution_count": 12,
   "metadata": {},
   "outputs": [],
   "source": [
    "from sklearn.model_selection import GridSearchCV"
   ]
  },
  {
   "cell_type": "code",
   "execution_count": 13,
   "metadata": {},
   "outputs": [
    {
     "name": "stdout",
     "output_type": "stream",
     "text": [
      "Fitting 5 folds for each of 16 candidates, totalling 80 fits\n",
      "[CV] C=0.1, gamma=1, kernel=linear ...................................\n",
      "[CV] ....... C=0.1, gamma=1, kernel=linear, score=0.979, total=   0.0s\n",
      "[CV] C=0.1, gamma=1, kernel=linear ...................................\n",
      "[CV] ....... C=0.1, gamma=1, kernel=linear, score=0.937, total=   0.0s\n",
      "[CV] C=0.1, gamma=1, kernel=linear ...................................\n",
      "[CV] ....... C=0.1, gamma=1, kernel=linear, score=0.993, total=   0.0s\n",
      "[CV] C=0.1, gamma=1, kernel=linear ...................................\n",
      "[CV] ....... C=0.1, gamma=1, kernel=linear, score=0.965, total=   0.0s\n",
      "[CV] C=0.1, gamma=1, kernel=linear ...................................\n",
      "[CV] ....... C=0.1, gamma=1, kernel=linear, score=0.937, total=   0.0s\n",
      "[CV] C=0.1, gamma=0.1, kernel=linear .................................\n",
      "[CV] ..... C=0.1, gamma=0.1, kernel=linear, score=0.979, total=   0.0s\n",
      "[CV] C=0.1, gamma=0.1, kernel=linear .................................\n",
      "[CV] ..... C=0.1, gamma=0.1, kernel=linear, score=0.937, total=   0.0s\n",
      "[CV] C=0.1, gamma=0.1, kernel=linear .................................\n",
      "[CV] ..... C=0.1, gamma=0.1, kernel=linear, score=0.993, total=   0.0s\n",
      "[CV] C=0.1, gamma=0.1, kernel=linear .................................\n",
      "[CV] ..... C=0.1, gamma=0.1, kernel=linear, score=0.965, total=   0.0s\n",
      "[CV] C=0.1, gamma=0.1, kernel=linear .................................\n",
      "[CV] ..... C=0.1, gamma=0.1, kernel=linear, score=0.937, total=   0.0s\n",
      "[CV] C=0.1, gamma=0.01, kernel=linear ................................\n",
      "[CV] .... C=0.1, gamma=0.01, kernel=linear, score=0.979, total=   0.0s\n",
      "[CV] C=0.1, gamma=0.01, kernel=linear ................................\n",
      "[CV] .... C=0.1, gamma=0.01, kernel=linear, score=0.937, total=   0.0s\n",
      "[CV] C=0.1, gamma=0.01, kernel=linear ................................\n",
      "[CV] .... C=0.1, gamma=0.01, kernel=linear, score=0.993, total=   0.0s\n",
      "[CV] C=0.1, gamma=0.01, kernel=linear ................................\n",
      "[CV] .... C=0.1, gamma=0.01, kernel=linear, score=0.965, total=   0.0s\n",
      "[CV] C=0.1, gamma=0.01, kernel=linear ................................\n",
      "[CV] .... C=0.1, gamma=0.01, kernel=linear, score=0.937, total=   0.0s\n",
      "[CV] C=0.1, gamma=0.001, kernel=linear ...............................\n",
      "[CV] ... C=0.1, gamma=0.001, kernel=linear, score=0.979, total=   0.0s\n",
      "[CV] C=0.1, gamma=0.001, kernel=linear ...............................\n",
      "[CV] ... C=0.1, gamma=0.001, kernel=linear, score=0.937, total=   0.0s\n",
      "[CV] C=0.1, gamma=0.001, kernel=linear ...............................\n",
      "[CV] ... C=0.1, gamma=0.001, kernel=linear, score=0.993, total=   0.0s\n",
      "[CV] C=0.1, gamma=0.001, kernel=linear ...............................\n",
      "[CV] ... C=0.1, gamma=0.001, kernel=linear, score=0.965, total=   0.0s\n",
      "[CV] C=0.1, gamma=0.001, kernel=linear ...............................\n",
      "[CV] ... C=0.1, gamma=0.001, kernel=linear, score=0.937, total=   0.0s\n",
      "[CV] C=1, gamma=1, kernel=linear .....................................\n",
      "[CV] ......... C=1, gamma=1, kernel=linear, score=0.979, total=   0.0s"
     ]
    },
    {
     "name": "stderr",
     "output_type": "stream",
     "text": [
      "[Parallel(n_jobs=1)]: Using backend SequentialBackend with 1 concurrent workers.\n",
      "[Parallel(n_jobs=1)]: Done   1 out of   1 | elapsed:    0.0s remaining:    0.0s\n",
      "[Parallel(n_jobs=1)]: Done   2 out of   2 | elapsed:    0.0s remaining:    0.0s\n"
     ]
    },
    {
     "name": "stdout",
     "output_type": "stream",
     "text": [
      "\n",
      "[CV] C=1, gamma=1, kernel=linear .....................................\n",
      "[CV] ......... C=1, gamma=1, kernel=linear, score=0.930, total=   0.0s\n",
      "[CV] C=1, gamma=1, kernel=linear .....................................\n",
      "[CV] ......... C=1, gamma=1, kernel=linear, score=0.986, total=   0.0s\n",
      "[CV] C=1, gamma=1, kernel=linear .....................................\n",
      "[CV] ......... C=1, gamma=1, kernel=linear, score=0.972, total=   0.0s\n",
      "[CV] C=1, gamma=1, kernel=linear .....................................\n",
      "[CV] ......... C=1, gamma=1, kernel=linear, score=0.930, total=   0.0s\n",
      "[CV] C=1, gamma=0.1, kernel=linear ...................................\n",
      "[CV] ....... C=1, gamma=0.1, kernel=linear, score=0.979, total=   0.0s\n",
      "[CV] C=1, gamma=0.1, kernel=linear ...................................\n",
      "[CV] ....... C=1, gamma=0.1, kernel=linear, score=0.930, total=   0.0s\n",
      "[CV] C=1, gamma=0.1, kernel=linear ...................................\n",
      "[CV] ....... C=1, gamma=0.1, kernel=linear, score=0.986, total=   0.0s\n",
      "[CV] C=1, gamma=0.1, kernel=linear ...................................\n",
      "[CV] ....... C=1, gamma=0.1, kernel=linear, score=0.972, total=   0.0s\n",
      "[CV] C=1, gamma=0.1, kernel=linear ...................................\n",
      "[CV] ....... C=1, gamma=0.1, kernel=linear, score=0.930, total=   0.0s\n",
      "[CV] C=1, gamma=0.01, kernel=linear ..................................\n",
      "[CV] ...... C=1, gamma=0.01, kernel=linear, score=0.979, total=   0.0s\n",
      "[CV] C=1, gamma=0.01, kernel=linear ..................................\n",
      "[CV] ...... C=1, gamma=0.01, kernel=linear, score=0.930, total=   0.0s\n",
      "[CV] C=1, gamma=0.01, kernel=linear ..................................\n",
      "[CV] ...... C=1, gamma=0.01, kernel=linear, score=0.986, total=   0.0s\n",
      "[CV] C=1, gamma=0.01, kernel=linear ..................................\n",
      "[CV] ...... C=1, gamma=0.01, kernel=linear, score=0.972, total=   0.0s\n",
      "[CV] C=1, gamma=0.01, kernel=linear ..................................\n",
      "[CV] ...... C=1, gamma=0.01, kernel=linear, score=0.930, total=   0.0s\n",
      "[CV] C=1, gamma=0.001, kernel=linear .................................\n",
      "[CV] ..... C=1, gamma=0.001, kernel=linear, score=0.979, total=   0.0s\n",
      "[CV] C=1, gamma=0.001, kernel=linear .................................\n",
      "[CV] ..... C=1, gamma=0.001, kernel=linear, score=0.930, total=   0.0s\n",
      "[CV] C=1, gamma=0.001, kernel=linear .................................\n",
      "[CV] ..... C=1, gamma=0.001, kernel=linear, score=0.986, total=   0.0s\n",
      "[CV] C=1, gamma=0.001, kernel=linear .................................\n",
      "[CV] ..... C=1, gamma=0.001, kernel=linear, score=0.972, total=   0.0s\n",
      "[CV] C=1, gamma=0.001, kernel=linear .................................\n",
      "[CV] ..... C=1, gamma=0.001, kernel=linear, score=0.930, total=   0.0s\n",
      "[CV] C=10, gamma=1, kernel=linear ....................................\n",
      "[CV] ........ C=10, gamma=1, kernel=linear, score=0.979, total=   0.0s\n",
      "[CV] C=10, gamma=1, kernel=linear ....................................\n",
      "[CV] ........ C=10, gamma=1, kernel=linear, score=0.937, total=   0.0s\n",
      "[CV] C=10, gamma=1, kernel=linear ....................................\n",
      "[CV] ........ C=10, gamma=1, kernel=linear, score=0.986, total=   0.0s\n",
      "[CV] C=10, gamma=1, kernel=linear ....................................\n",
      "[CV] ........ C=10, gamma=1, kernel=linear, score=0.951, total=   0.0s\n",
      "[CV] C=10, gamma=1, kernel=linear ....................................\n",
      "[CV] ........ C=10, gamma=1, kernel=linear, score=0.930, total=   0.0s\n",
      "[CV] C=10, gamma=0.1, kernel=linear ..................................\n",
      "[CV] ...... C=10, gamma=0.1, kernel=linear, score=0.979, total=   0.0s\n",
      "[CV] C=10, gamma=0.1, kernel=linear ..................................\n",
      "[CV] ...... C=10, gamma=0.1, kernel=linear, score=0.937, total=   0.0s\n",
      "[CV] C=10, gamma=0.1, kernel=linear ..................................\n",
      "[CV] ...... C=10, gamma=0.1, kernel=linear, score=0.986, total=   0.0s\n",
      "[CV] C=10, gamma=0.1, kernel=linear ..................................\n",
      "[CV] ...... C=10, gamma=0.1, kernel=linear, score=0.951, total=   0.0s\n",
      "[CV] C=10, gamma=0.1, kernel=linear ..................................\n",
      "[CV] ...... C=10, gamma=0.1, kernel=linear, score=0.930, total=   0.0s\n",
      "[CV] C=10, gamma=0.01, kernel=linear .................................\n",
      "[CV] ..... C=10, gamma=0.01, kernel=linear, score=0.979, total=   0.0s\n",
      "[CV] C=10, gamma=0.01, kernel=linear .................................\n",
      "[CV] ..... C=10, gamma=0.01, kernel=linear, score=0.937, total=   0.0s\n",
      "[CV] C=10, gamma=0.01, kernel=linear .................................\n",
      "[CV] ..... C=10, gamma=0.01, kernel=linear, score=0.986, total=   0.0s\n",
      "[CV] C=10, gamma=0.01, kernel=linear .................................\n",
      "[CV] ..... C=10, gamma=0.01, kernel=linear, score=0.951, total=   0.0s\n",
      "[CV] C=10, gamma=0.01, kernel=linear .................................\n",
      "[CV] ..... C=10, gamma=0.01, kernel=linear, score=0.930, total=   0.0s\n",
      "[CV] C=10, gamma=0.001, kernel=linear ................................\n",
      "[CV] .... C=10, gamma=0.001, kernel=linear, score=0.979, total=   0.0s\n",
      "[CV] C=10, gamma=0.001, kernel=linear ................................\n",
      "[CV] .... C=10, gamma=0.001, kernel=linear, score=0.937, total=   0.0s\n",
      "[CV] C=10, gamma=0.001, kernel=linear ................................\n",
      "[CV] .... C=10, gamma=0.001, kernel=linear, score=0.986, total=   0.0s\n",
      "[CV] C=10, gamma=0.001, kernel=linear ................................\n",
      "[CV] .... C=10, gamma=0.001, kernel=linear, score=0.951, total=   0.0s\n",
      "[CV] C=10, gamma=0.001, kernel=linear ................................\n",
      "[CV] .... C=10, gamma=0.001, kernel=linear, score=0.930, total=   0.0s\n",
      "[CV] C=100, gamma=1, kernel=linear ...................................\n",
      "[CV] ....... C=100, gamma=1, kernel=linear, score=0.979, total=   0.1s\n",
      "[CV] C=100, gamma=1, kernel=linear ...................................\n",
      "[CV] ....... C=100, gamma=1, kernel=linear, score=0.930, total=   0.0s\n",
      "[CV] C=100, gamma=1, kernel=linear ...................................\n",
      "[CV] ....... C=100, gamma=1, kernel=linear, score=0.986, total=   0.0s\n",
      "[CV] C=100, gamma=1, kernel=linear ...................................\n",
      "[CV] ....... C=100, gamma=1, kernel=linear, score=0.958, total=   0.0s\n",
      "[CV] C=100, gamma=1, kernel=linear ...................................\n",
      "[CV] ....... C=100, gamma=1, kernel=linear, score=0.937, total=   0.1s\n",
      "[CV] C=100, gamma=0.1, kernel=linear .................................\n",
      "[CV] ..... C=100, gamma=0.1, kernel=linear, score=0.979, total=   0.1s\n",
      "[CV] C=100, gamma=0.1, kernel=linear .................................\n",
      "[CV] ..... C=100, gamma=0.1, kernel=linear, score=0.930, total=   0.0s\n",
      "[CV] C=100, gamma=0.1, kernel=linear .................................\n",
      "[CV] ..... C=100, gamma=0.1, kernel=linear, score=0.986, total=   0.0s\n",
      "[CV] C=100, gamma=0.1, kernel=linear .................................\n",
      "[CV] ..... C=100, gamma=0.1, kernel=linear, score=0.958, total=   0.0s\n",
      "[CV] C=100, gamma=0.1, kernel=linear .................................\n",
      "[CV] ..... C=100, gamma=0.1, kernel=linear, score=0.937, total=   0.1s\n",
      "[CV] C=100, gamma=0.01, kernel=linear ................................\n",
      "[CV] .... C=100, gamma=0.01, kernel=linear, score=0.979, total=   0.1s\n",
      "[CV] C=100, gamma=0.01, kernel=linear ................................\n",
      "[CV] .... C=100, gamma=0.01, kernel=linear, score=0.930, total=   0.0s\n",
      "[CV] C=100, gamma=0.01, kernel=linear ................................\n",
      "[CV] .... C=100, gamma=0.01, kernel=linear, score=0.986, total=   0.0s\n",
      "[CV] C=100, gamma=0.01, kernel=linear ................................\n",
      "[CV] .... C=100, gamma=0.01, kernel=linear, score=0.958, total=   0.0s\n",
      "[CV] C=100, gamma=0.01, kernel=linear ................................\n",
      "[CV] .... C=100, gamma=0.01, kernel=linear, score=0.937, total=   0.1s\n",
      "[CV] C=100, gamma=0.001, kernel=linear ...............................\n",
      "[CV] ... C=100, gamma=0.001, kernel=linear, score=0.979, total=   0.0s\n",
      "[CV] C=100, gamma=0.001, kernel=linear ...............................\n",
      "[CV] ... C=100, gamma=0.001, kernel=linear, score=0.930, total=   0.0s\n",
      "[CV] C=100, gamma=0.001, kernel=linear ...............................\n",
      "[CV] ... C=100, gamma=0.001, kernel=linear, score=0.986, total=   0.1s\n",
      "[CV] C=100, gamma=0.001, kernel=linear ...............................\n"
     ]
    },
    {
     "name": "stdout",
     "output_type": "stream",
     "text": [
      "[CV] ... C=100, gamma=0.001, kernel=linear, score=0.958, total=   0.0s\n",
      "[CV] C=100, gamma=0.001, kernel=linear ...............................\n",
      "[CV] ... C=100, gamma=0.001, kernel=linear, score=0.937, total=   0.1s\n"
     ]
    },
    {
     "name": "stderr",
     "output_type": "stream",
     "text": [
      "[Parallel(n_jobs=1)]: Done  80 out of  80 | elapsed:    1.8s finished\n"
     ]
    },
    {
     "data": {
      "text/plain": [
       "GridSearchCV(estimator=SVC(),\n",
       "             param_grid={'C': [0.1, 1, 10, 100], 'gamma': [1, 0.1, 0.01, 0.001],\n",
       "                         'kernel': ['linear']},\n",
       "             verbose=3)"
      ]
     },
     "execution_count": 13,
     "metadata": {},
     "output_type": "execute_result"
    }
   ],
   "source": [
    "param_grid = {'C': [0.1,1, 10, 100,], 'gamma': [1,0.1,0.01,0.001], 'kernel': ['linear']} \n",
    "grid = GridSearchCV(SVC(),param_grid,refit=True,verbose=3)\n",
    "grid.fit(X_train,y_train)"
   ]
  },
  {
   "cell_type": "code",
   "execution_count": 14,
   "metadata": {},
   "outputs": [
    {
     "data": {
      "text/plain": [
       "{'C': 0.1, 'gamma': 1, 'kernel': 'linear'}"
      ]
     },
     "execution_count": 14,
     "metadata": {},
     "output_type": "execute_result"
    }
   ],
   "source": [
    "grid.best_params_"
   ]
  },
  {
   "cell_type": "code",
   "execution_count": 15,
   "metadata": {},
   "outputs": [
    {
     "data": {
      "text/plain": [
       "SVC(C=0.1, gamma=1, kernel='linear')"
      ]
     },
     "execution_count": 15,
     "metadata": {},
     "output_type": "execute_result"
    }
   ],
   "source": [
    "grid.best_estimator_"
   ]
  },
  {
   "cell_type": "code",
   "execution_count": 16,
   "metadata": {},
   "outputs": [],
   "source": [
    "y_pred_grid_svc = grid.predict(X_test)\n",
    "y_grid_svc_Kaggle = grid.predict(X_Kaggle)"
   ]
  },
  {
   "cell_type": "code",
   "execution_count": 17,
   "metadata": {},
   "outputs": [
    {
     "name": "stdout",
     "output_type": "stream",
     "text": [
      "\n",
      "Classification report\n",
      "              precision    recall  f1-score   support\n",
      "\n",
      "         0.0       0.93      0.98      0.95       106\n",
      "         1.0       0.97      0.89      0.93        73\n",
      "\n",
      "    accuracy                           0.94       179\n",
      "   macro avg       0.95      0.94      0.94       179\n",
      "weighted avg       0.95      0.94      0.94       179\n",
      "\n",
      "\n",
      "Confusion matrix\n",
      "[[104   2]\n",
      " [  8  65]]\n",
      "\n",
      "\n"
     ]
    }
   ],
   "source": [
    "report(y_pred_grid_svc)"
   ]
  },
  {
   "cell_type": "code",
   "execution_count": 18,
   "metadata": {},
   "outputs": [
    {
     "name": "stdout",
     "output_type": "stream",
     "text": [
      "0.9441340782122905\n"
     ]
    }
   ],
   "source": [
    "acc_grid_svc = accuracy_score(y_test, y_pred_grid_svc)\n",
    "print(acc_grid_svc)"
   ]
  },
  {
   "cell_type": "markdown",
   "metadata": {},
   "source": [
    "With found values of C and gamma preciction is only a little better than with default parameters."
   ]
  },
  {
   "cell_type": "markdown",
   "metadata": {},
   "source": [
    "# KNN - chosing the best n value"
   ]
  },
  {
   "cell_type": "code",
   "execution_count": 19,
   "metadata": {},
   "outputs": [],
   "source": [
    "from sklearn.neighbors import KNeighborsClassifier"
   ]
  },
  {
   "cell_type": "markdown",
   "metadata": {},
   "source": [
    "To chose the proper k value I repeat calculations for several k values and I choose the value with minimum error rate. "
   ]
  },
  {
   "cell_type": "code",
   "execution_count": 20,
   "metadata": {},
   "outputs": [],
   "source": [
    "error_rate = []\n",
    "for i in range(1,40):\n",
    "    knn = KNeighborsClassifier(n_neighbors=i)\n",
    "    knn.fit(X_train, y_train)\n",
    "    y_pred_i = knn.predict(X_test)\n",
    "    error_rate.append(np.mean(y_pred_i != y_test))"
   ]
  },
  {
   "cell_type": "code",
   "execution_count": 21,
   "metadata": {},
   "outputs": [
    {
     "data": {
      "image/png": "[encoded data removed]",
      "text/plain": [
       "<Figure size 864x432 with 1 Axes>"
      ]
     },
     "metadata": {
      "needs_background": "light"
     },
     "output_type": "display_data"
    }
   ],
   "source": [
    "plt.figure(figsize=(12,6))\n",
    "plt.plot(range(1,40), error_rate, color='blue',linestyle = 'dashed', marker='o')\n",
    "plt.xlabel('k')\n",
    "plt.ylabel('Error rate')\n",
    "plt.title('Error rate vs. k value')\n",
    "plt.show()"
   ]
  },
  {
   "cell_type": "markdown",
   "metadata": {},
   "source": [
    "Since in general kNN with k=1 implies over-fitting, I choose k=3"
   ]
  },
  {
   "cell_type": "markdown",
   "metadata": {},
   "source": [
    "## Prediction results sumarry"
   ]
  },
  {
   "cell_type": "code",
   "execution_count": 22,
   "metadata": {},
   "outputs": [
    {
     "data": {
      "text/html": [
       "<div>\n",
       "<style scoped>\n",
       "    .dataframe tbody tr th:only-of-type {\n",
       "        vertical-align: middle;\n",
       "    }\n",
       "\n",
       "    .dataframe tbody tr th {\n",
       "        vertical-align: top;\n",
       "    }\n",
       "\n",
       "    .dataframe thead th {\n",
       "        text-align: right;\n",
       "    }\n",
       "</style>\n",
       "<table border=\"1\" class=\"dataframe\">\n",
       "  <thead>\n",
       "    <tr style=\"text-align: right;\">\n",
       "      <th></th>\n",
       "      <th>Score</th>\n",
       "    </tr>\n",
       "    <tr>\n",
       "      <th>Model</th>\n",
       "      <th></th>\n",
       "    </tr>\n",
       "  </thead>\n",
       "  <tbody>\n",
       "    <tr>\n",
       "      <th>Decision tree</th>\n",
       "      <td>0.972067</td>\n",
       "    </tr>\n",
       "    <tr>\n",
       "      <th>XGDBoost</th>\n",
       "      <td>0.972067</td>\n",
       "    </tr>\n",
       "    <tr>\n",
       "      <th>Random forest</th>\n",
       "      <td>0.960894</td>\n",
       "    </tr>\n",
       "    <tr>\n",
       "      <th>KNN</th>\n",
       "      <td>0.932961</td>\n",
       "    </tr>\n",
       "    <tr>\n",
       "      <th>Logistic Regression</th>\n",
       "      <td>0.927374</td>\n",
       "    </tr>\n",
       "    <tr>\n",
       "      <th>Stochastic gradient descent</th>\n",
       "      <td>0.927374</td>\n",
       "    </tr>\n",
       "    <tr>\n",
       "      <th>Support Vector Classifier</th>\n",
       "      <td>0.927374</td>\n",
       "    </tr>\n",
       "    <tr>\n",
       "      <th>Naive Bayes</th>\n",
       "      <td>0.882682</td>\n",
       "    </tr>\n",
       "  </tbody>\n",
       "</table>\n",
       "</div>"
      ],
      "text/plain": [
       "                                Score\n",
       "Model                                \n",
       "Decision tree                0.972067\n",
       "XGDBoost                     0.972067\n",
       "Random forest                0.960894\n",
       "KNN                          0.932961\n",
       "Logistic Regression          0.927374\n",
       "Stochastic gradient descent  0.927374\n",
       "Support Vector Classifier    0.927374\n",
       "Naive Bayes                  0.882682"
      ]
     },
     "execution_count": 22,
     "metadata": {},
     "output_type": "execute_result"
    }
   ],
   "source": [
    "results = pd.DataFrame({\n",
    "    'Model': model_names,\n",
    "    'Score': accuracy})\n",
    "result_df = results.sort_values(by='Score', ascending=False)\n",
    "result_df = result_df.set_index('Model')\n",
    "result_df"
   ]
  },
  {
   "cell_type": "markdown",
   "metadata": {},
   "source": [
    "### Results of predictions on Kaggle test set"
   ]
  },
  {
   "cell_type": "markdown",
   "metadata": {},
   "source": [
    "After checking all generated submission datasets I see huge discrepacy between results on Kaggle webside and on test set. \n",
    "It is due to the fact, that feature ```Survived_rate``` for original train set used to make train_test_split and further \n",
    "model evaluation is calculated based mostly on well known ```Survived``` feature in train set. The values of ```Survived_rate```\n",
    "for real test set are evaluated on the basis of known values from train set and sometimes estimation is not working well.\n",
    "Only KNN works better than simple gender submission. It indicates that I did sth wrong during feature engineering, \n",
    "I have to look at that later."
   ]
  },
  {
   "cell_type": "code",
   "execution_count": 23,
   "metadata": {},
   "outputs": [],
   "source": [
    "# pd.read_csv('E:\\\\PycharmProjects\\\\Kaggle\\\\Titanic\\\\data\\\\summary.csv').sort_values(by='publicScore', ascending = False)"
   ]
  },
  {
   "cell_type": "markdown",
   "metadata": {},
   "source": [
    "## K-fold cross validation"
   ]
  },
  {
   "cell_type": "code",
   "execution_count": 24,
   "metadata": {},
   "outputs": [],
   "source": [
    "from sklearn.model_selection import StratifiedKFold"
   ]
  },
  {
   "cell_type": "code",
   "execution_count": 25,
   "metadata": {},
   "outputs": [
    {
     "name": "stdout",
     "output_type": "stream",
     "text": [
      "Logistic Regression\n",
      "Model: Logistic Regression\n",
      "CV results:\n",
      "[0.96666667 0.92134831 0.95505618 0.95505618 0.93258427 0.96629213\n",
      " 0.93258427 0.96629213 0.94382022 0.92134831]\n",
      "Max accuracy: 0.966667 for k=0\n",
      "Mean: 0.9461 (Std: 0.0173)\n",
      "\n",
      "k=0\n",
      "\n",
      "Logistic Regression\n",
      "\n",
      "Classification report\n",
      "              precision    recall  f1-score   support\n",
      "\n",
      "         0.0       0.96      0.98      0.97        55\n",
      "         1.0       0.97      0.94      0.96        35\n",
      "\n",
      "    accuracy                           0.97        90\n",
      "   macro avg       0.97      0.96      0.96        90\n",
      "weighted avg       0.97      0.97      0.97        90\n",
      "\n",
      "\n",
      "Confusion matrix\n",
      "[[54  1]\n",
      " [ 2 33]]\n",
      "\n",
      "\n",
      "Random forest\n",
      "Model: Random forest\n",
      "CV results:\n",
      "[0.94444444 0.94382022 0.98876404 0.98876404 0.95505618 0.95505618\n",
      " 0.97752809 0.98876404 0.97752809 0.95505618]\n",
      "Max accuracy: 0.988764 for k=2\n",
      "Mean: 0.9675 (Std: 0.0176)\n",
      "\n",
      "k=2\n",
      "\n",
      "Random forest\n",
      "\n",
      "Classification report\n",
      "              precision    recall  f1-score   support\n",
      "\n",
      "         0.0       0.98      1.00      0.99        55\n",
      "         1.0       1.00      0.97      0.99        34\n",
      "\n",
      "    accuracy                           0.99        89\n",
      "   macro avg       0.99      0.99      0.99        89\n",
      "weighted avg       0.99      0.99      0.99        89\n",
      "\n",
      "\n",
      "Confusion matrix\n",
      "[[55  0]\n",
      " [ 1 33]]\n",
      "\n",
      "\n",
      "Decision tree\n",
      "Model: Decision tree\n",
      "CV results:\n",
      "[0.92222222 0.93258427 0.98876404 0.98876404 0.96629213 0.94382022\n",
      " 0.98876404 0.98876404 0.98876404 0.98876404]\n",
      "Max accuracy: 0.988764 for k=2\n",
      "Mean: 0.9698 (Std: 0.0255)\n",
      "\n",
      "k=2\n",
      "\n",
      "Decision tree\n",
      "\n",
      "Classification report\n",
      "              precision    recall  f1-score   support\n",
      "\n",
      "         0.0       0.98      1.00      0.99        55\n",
      "         1.0       1.00      0.97      0.99        34\n",
      "\n",
      "    accuracy                           0.99        89\n",
      "   macro avg       0.99      0.99      0.99        89\n",
      "weighted avg       0.99      0.99      0.99        89\n",
      "\n",
      "\n",
      "Confusion matrix\n",
      "[[55  0]\n",
      " [ 1 33]]\n",
      "\n",
      "\n",
      "XGDBoost\n",
      "Model: XGDBoost\n",
      "CV results:\n",
      "[0.94444444 0.93258427 0.98876404 1.         0.96629213 0.93258427\n",
      " 0.98876404 0.97752809 0.97752809 0.95505618]\n",
      "Max accuracy: 1.000000 for k=3\n",
      "Mean: 0.9664 (Std: 0.0230)\n",
      "\n",
      "k=3\n",
      "\n",
      "XGDBoost\n",
      "\n",
      "Classification report\n",
      "              precision    recall  f1-score   support\n",
      "\n",
      "         0.0       1.00      1.00      1.00        55\n",
      "         1.0       1.00      1.00      1.00        34\n",
      "\n",
      "    accuracy                           1.00        89\n",
      "   macro avg       1.00      1.00      1.00        89\n",
      "weighted avg       1.00      1.00      1.00        89\n",
      "\n",
      "\n",
      "Confusion matrix\n",
      "[[55  0]\n",
      " [ 0 34]]\n",
      "\n",
      "\n",
      "Stochastic gradient descent\n",
      "Model: Stochastic gradient descent\n",
      "CV results:\n",
      "[0.53333333 0.86516854 0.93258427 0.7752809  0.92134831 0.94382022\n",
      " 0.66292135 0.39325843 0.88764045 0.78651685]\n",
      "Max accuracy: 0.943820 for k=5\n",
      "Mean: 0.7702 (Std: 0.1767)\n",
      "\n",
      "k=5\n",
      "\n",
      "Stochastic gradient descent\n",
      "\n",
      "Classification report\n",
      "              precision    recall  f1-score   support\n",
      "\n",
      "         0.0       0.95      0.96      0.95        55\n",
      "         1.0       0.94      0.91      0.93        34\n",
      "\n",
      "    accuracy                           0.94        89\n",
      "   macro avg       0.94      0.94      0.94        89\n",
      "weighted avg       0.94      0.94      0.94        89\n",
      "\n",
      "\n",
      "Confusion matrix\n",
      "[[53  2]\n",
      " [ 3 31]]\n",
      "\n",
      "\n",
      "Naive Bayes\n",
      "Model: Naive Bayes\n",
      "CV results:\n",
      "[0.85555556 0.85393258 0.95505618 0.91011236 0.91011236 0.86516854\n",
      " 0.92134831 0.84269663 0.8988764  0.84269663]\n",
      "Max accuracy: 0.955056 for k=2\n",
      "Mean: 0.8856 (Std: 0.0367)\n",
      "\n",
      "k=2\n",
      "\n",
      "Naive Bayes\n",
      "\n",
      "Classification report\n",
      "              precision    recall  f1-score   support\n",
      "\n",
      "         0.0       0.98      0.95      0.96        55\n",
      "         1.0       0.92      0.97      0.94        34\n",
      "\n",
      "    accuracy                           0.96        89\n",
      "   macro avg       0.95      0.96      0.95        89\n",
      "weighted avg       0.96      0.96      0.96        89\n",
      "\n",
      "\n",
      "Confusion matrix\n",
      "[[52  3]\n",
      " [ 1 33]]\n",
      "\n",
      "\n",
      "Support Vector Classifier\n",
      "Model: Support Vector Classifier\n",
      "CV results:\n",
      "[0.96666667 0.8988764  0.94382022 0.94382022 0.93258427 0.96629213\n",
      " 0.93258427 0.96629213 0.95505618 0.8988764 ]\n",
      "Max accuracy: 0.966667 for k=0\n",
      "Mean: 0.9405 (Std: 0.0242)\n",
      "\n",
      "k=0\n",
      "\n",
      "Support Vector Classifier\n",
      "\n",
      "Classification report\n",
      "              precision    recall  f1-score   support\n",
      "\n",
      "         0.0       0.96      0.98      0.97        55\n",
      "         1.0       0.97      0.94      0.96        35\n",
      "\n",
      "    accuracy                           0.97        90\n",
      "   macro avg       0.97      0.96      0.96        90\n",
      "weighted avg       0.97      0.97      0.97        90\n",
      "\n",
      "\n",
      "Confusion matrix\n",
      "[[54  1]\n",
      " [ 2 33]]\n",
      "\n",
      "\n",
      "KNN\n",
      "Model: KNN\n",
      "CV results:\n",
      "[0.94444444 0.95505618 0.96629213 0.96629213 0.94382022 0.95505618\n",
      " 0.96629213 0.92134831 0.95505618 0.91011236]\n",
      "Max accuracy: 0.966292 for k=2\n",
      "Mean: 0.9484 (Std: 0.0182)\n",
      "\n",
      "k=2\n",
      "\n",
      "KNN\n",
      "\n",
      "Classification report\n",
      "              precision    recall  f1-score   support\n",
      "\n",
      "         0.0       0.82      0.89      0.85        55\n",
      "         1.0       0.79      0.68      0.73        34\n",
      "\n",
      "    accuracy                           0.81        89\n",
      "   macro avg       0.80      0.78      0.79        89\n",
      "weighted avg       0.81      0.81      0.81        89\n",
      "\n",
      "\n",
      "Confusion matrix\n",
      "[[49  6]\n",
      " [11 23]]\n",
      "\n",
      "\n"
     ]
    }
   ],
   "source": [
    "model_names = []\n",
    "accuracy = []\n",
    "\n",
    "for model_name, model in models.items():\n",
    "    print(model_name)\n",
    "    kfold = StratifiedKFold(n_splits=10, random_state=1, shuffle=True)\n",
    "    \n",
    "    if model_name == 'KNN':\n",
    "        sc = StandardScaler()\n",
    "        X_sc = sc.fit_transform(X)\n",
    "        X_Kaggle = sc.transform(df_Kaggle.drop(columns=drop_columns))\n",
    "        cv_results = cross_val_score(model, X_sc, y, cv=kfold, scoring='accuracy')\n",
    "    else:\n",
    "        X_Kaggle = X_Kaggle_s\n",
    "        cv_results = cross_val_score(model, X, y, cv=kfold, scoring='accuracy')\n",
    "        \n",
    "    print('Model: %s\\nCV results:' % (model_name))\n",
    "    print(cv_results)\n",
    "    print('Max accuracy: %f for k=%d' % (cv_results.max(),cv_results.argmax()))\n",
    "    print('Mean: %.4f (Std: %.4f)\\n' % (cv_results.mean(), cv_results.std()))\n",
    "    \n",
    "    i=0  \n",
    "    for train_index, test_index in kfold.split(X, y):\n",
    "        if i == cv_results.argmax():\n",
    "            print('k=%d' % i)\n",
    "            X_train = X.iloc[train_index]\n",
    "            X_test = X.iloc[test_index]\n",
    "            y_train = y.iloc[train_index]\n",
    "            y_test = y.loc[test_index] \n",
    "        i=i+1\n",
    "\n",
    "    model.fit(X_train, y_train)\n",
    "    y_Kaggle = model.predict(X_Kaggle)\n",
    "    y_pred = model.predict(X_test)\n",
    "    submission = save(y_Kaggle, model_name)\n",
    "    print('\\n'+model_name)\n",
    "    model_names.append(model_name)\n",
    "    report(y_pred)\n",
    "    accuracy.append(cv_results.max())"
   ]
  },
  {
   "cell_type": "code",
   "execution_count": 26,
   "metadata": {},
   "outputs": [
    {
     "data": {
      "text/html": [
       "<div>\n",
       "<style scoped>\n",
       "    .dataframe tbody tr th:only-of-type {\n",
       "        vertical-align: middle;\n",
       "    }\n",
       "\n",
       "    .dataframe tbody tr th {\n",
       "        vertical-align: top;\n",
       "    }\n",
       "\n",
       "    .dataframe thead th {\n",
       "        text-align: right;\n",
       "    }\n",
       "</style>\n",
       "<table border=\"1\" class=\"dataframe\">\n",
       "  <thead>\n",
       "    <tr style=\"text-align: right;\">\n",
       "      <th></th>\n",
       "      <th>Without K-fold</th>\n",
       "      <th>With K-fold</th>\n",
       "    </tr>\n",
       "    <tr>\n",
       "      <th>Model</th>\n",
       "      <th></th>\n",
       "      <th></th>\n",
       "    </tr>\n",
       "  </thead>\n",
       "  <tbody>\n",
       "    <tr>\n",
       "      <th>Decision tree</th>\n",
       "      <td>0.972067</td>\n",
       "      <td>0.988764</td>\n",
       "    </tr>\n",
       "    <tr>\n",
       "      <th>XGDBoost</th>\n",
       "      <td>0.972067</td>\n",
       "      <td>1.000000</td>\n",
       "    </tr>\n",
       "    <tr>\n",
       "      <th>Random forest</th>\n",
       "      <td>0.960894</td>\n",
       "      <td>0.988764</td>\n",
       "    </tr>\n",
       "    <tr>\n",
       "      <th>KNN</th>\n",
       "      <td>0.932961</td>\n",
       "      <td>0.966292</td>\n",
       "    </tr>\n",
       "    <tr>\n",
       "      <th>Logistic Regression</th>\n",
       "      <td>0.927374</td>\n",
       "      <td>0.966667</td>\n",
       "    </tr>\n",
       "    <tr>\n",
       "      <th>Stochastic gradient descent</th>\n",
       "      <td>0.927374</td>\n",
       "      <td>0.943820</td>\n",
       "    </tr>\n",
       "    <tr>\n",
       "      <th>Support Vector Classifier</th>\n",
       "      <td>0.927374</td>\n",
       "      <td>0.966667</td>\n",
       "    </tr>\n",
       "    <tr>\n",
       "      <th>Naive Bayes</th>\n",
       "      <td>0.882682</td>\n",
       "      <td>0.955056</td>\n",
       "    </tr>\n",
       "  </tbody>\n",
       "</table>\n",
       "</div>"
      ],
      "text/plain": [
       "                             Without K-fold  With K-fold\n",
       "Model                                                   \n",
       "Decision tree                      0.972067     0.988764\n",
       "XGDBoost                           0.972067     1.000000\n",
       "Random forest                      0.960894     0.988764\n",
       "KNN                                0.932961     0.966292\n",
       "Logistic Regression                0.927374     0.966667\n",
       "Stochastic gradient descent        0.927374     0.943820\n",
       "Support Vector Classifier          0.927374     0.966667\n",
       "Naive Bayes                        0.882682     0.955056"
      ]
     },
     "execution_count": 26,
     "metadata": {},
     "output_type": "execute_result"
    }
   ],
   "source": [
    "results = pd.DataFrame({\n",
    "    'Model': model_names,\n",
    "    'Score': accuracy})\n",
    "result_df_cv = results.sort_values(by='Score', ascending=False)\n",
    "result_df_cv = result_df_cv.set_index('Model')\n",
    "summary = pd.merge(result_df, result_df_cv, on='Model',how='inner')\n",
    "summary.columns = ['Without K-fold', 'With K-fold']\n",
    "summary"
   ]
  },
  {
   "cell_type": "code",
   "execution_count": 27,
   "metadata": {},
   "outputs": [],
   "source": [
    "# summary.to_csv('E:\\\\PycharmProjects\\\\Kaggle\\\\Titanic\\\\data\\\\summary.csv')"
   ]
  }
 ],
 "metadata": {
  "kernelspec": {
   "display_name": "Python 3",
   "language": "python",
   "name": "python3"
  },
  "language_info": {
   "codemirror_mode": {
    "name": "ipython",
    "version": 3
   },
   "file_extension": ".py",
   "mimetype": "text/x-python",
   "name": "python",
   "nbconvert_exporter": "python",
   "pygments_lexer": "ipython3",
   "version": "3.9.0"
  }
 },
 "nbformat": 4,
 "nbformat_minor": 1
}