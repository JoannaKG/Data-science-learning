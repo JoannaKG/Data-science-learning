{
 "cells": [
  {
   "cell_type": "markdown",
   "metadata": {},
   "source": [
    "# 2. Building predicion model"
   ]
  },
  {
   "cell_type": "markdown",
   "metadata": {},
   "source": [
    "## 2.1 Data import and preprocessing"
   ]
  },
  {
   "cell_type": "code",
   "execution_count": 1,
   "metadata": {
    "pycharm": {
     "is_executing": true,
     "name": "#%%\n"
    }
   },
   "outputs": [],
   "source": [
    "import pandas as pd\n",
    "import numpy as np\n",
    "import matplotlib.pyplot as plt\n",
    "from sklearn.model_selection import train_test_split\n",
    "from sklearn.preprocessing import StandardScaler"
   ]
  },
  {
   "cell_type": "code",
   "execution_count": 2,
   "metadata": {
    "pycharm": {
     "name": "#%%\n"
    },
    "scrolled": true
   },
   "outputs": [],
   "source": [
    "df_train = pd.read_csv('E:\\\\PycharmProjects\\\\Kaggle\\\\Titanic\\\\data\\\\df_train.csv')\n",
    "df_Kaggle = pd.read_csv('E:\\\\PycharmProjects\\\\Kaggle\\\\Titanic\\\\data\\\\df_test_Kaggle.csv')"
   ]
  },
  {
   "cell_type": "code",
   "execution_count": 3,
   "metadata": {
    "pycharm": {
     "name": "#%%\n"
    }
   },
   "outputs": [
    {
     "data": {
      "text/html": [
       "<div>\n",
       "<style scoped>\n",
       "    .dataframe tbody tr th:only-of-type {\n",
       "        vertical-align: middle;\n",
       "    }\n",
       "\n",
       "    .dataframe tbody tr th {\n",
       "        vertical-align: top;\n",
       "    }\n",
       "\n",
       "    .dataframe thead th {\n",
       "        text-align: right;\n",
       "    }\n",
       "</style>\n",
       "<table border=\"1\" class=\"dataframe\">\n",
       "  <thead>\n",
       "    <tr style=\"text-align: right;\">\n",
       "      <th></th>\n",
       "      <th>PassengerId</th>\n",
       "      <th>Survived</th>\n",
       "      <th>Pclass</th>\n",
       "      <th>Age</th>\n",
       "      <th>Family_size</th>\n",
       "      <th>Ticket_frequency</th>\n",
       "      <th>Survival_rate</th>\n",
       "      <th>Fare_per_person</th>\n",
       "      <th>Sex_2</th>\n",
       "      <th>Embarked_2</th>\n",
       "      <th>Embarked_3</th>\n",
       "      <th>Deck_2</th>\n",
       "      <th>Deck_3</th>\n",
       "    </tr>\n",
       "  </thead>\n",
       "  <tbody>\n",
       "    <tr>\n",
       "      <th>0</th>\n",
       "      <td>1</td>\n",
       "      <td>0.0</td>\n",
       "      <td>3</td>\n",
       "      <td>22.0</td>\n",
       "      <td>2</td>\n",
       "      <td>1</td>\n",
       "      <td>0.00</td>\n",
       "      <td>7.25000</td>\n",
       "      <td>1.0</td>\n",
       "      <td>0.0</td>\n",
       "      <td>1.0</td>\n",
       "      <td>0.0</td>\n",
       "      <td>1.0</td>\n",
       "    </tr>\n",
       "    <tr>\n",
       "      <th>1</th>\n",
       "      <td>2</td>\n",
       "      <td>1.0</td>\n",
       "      <td>1</td>\n",
       "      <td>38.0</td>\n",
       "      <td>2</td>\n",
       "      <td>2</td>\n",
       "      <td>0.25</td>\n",
       "      <td>35.64165</td>\n",
       "      <td>0.0</td>\n",
       "      <td>0.0</td>\n",
       "      <td>0.0</td>\n",
       "      <td>0.0</td>\n",
       "      <td>0.0</td>\n",
       "    </tr>\n",
       "    <tr>\n",
       "      <th>2</th>\n",
       "      <td>3</td>\n",
       "      <td>1.0</td>\n",
       "      <td>3</td>\n",
       "      <td>26.0</td>\n",
       "      <td>1</td>\n",
       "      <td>1</td>\n",
       "      <td>1.00</td>\n",
       "      <td>7.92500</td>\n",
       "      <td>0.0</td>\n",
       "      <td>0.0</td>\n",
       "      <td>1.0</td>\n",
       "      <td>0.0</td>\n",
       "      <td>1.0</td>\n",
       "    </tr>\n",
       "    <tr>\n",
       "      <th>3</th>\n",
       "      <td>4</td>\n",
       "      <td>1.0</td>\n",
       "      <td>1</td>\n",
       "      <td>35.0</td>\n",
       "      <td>2</td>\n",
       "      <td>2</td>\n",
       "      <td>0.25</td>\n",
       "      <td>26.55000</td>\n",
       "      <td>0.0</td>\n",
       "      <td>0.0</td>\n",
       "      <td>1.0</td>\n",
       "      <td>0.0</td>\n",
       "      <td>0.0</td>\n",
       "    </tr>\n",
       "    <tr>\n",
       "      <th>4</th>\n",
       "      <td>5</td>\n",
       "      <td>0.0</td>\n",
       "      <td>3</td>\n",
       "      <td>35.0</td>\n",
       "      <td>1</td>\n",
       "      <td>1</td>\n",
       "      <td>0.00</td>\n",
       "      <td>8.05000</td>\n",
       "      <td>1.0</td>\n",
       "      <td>0.0</td>\n",
       "      <td>1.0</td>\n",
       "      <td>0.0</td>\n",
       "      <td>1.0</td>\n",
       "    </tr>\n",
       "  </tbody>\n",
       "</table>\n",
       "</div>"
      ],
      "text/plain": [
       "   PassengerId  Survived  Pclass   Age  Family_size  Ticket_frequency  \\\n",
       "0            1       0.0       3  22.0            2                 1   \n",
       "1            2       1.0       1  38.0            2                 2   \n",
       "2            3       1.0       3  26.0            1                 1   \n",
       "3            4       1.0       1  35.0            2                 2   \n",
       "4            5       0.0       3  35.0            1                 1   \n",
       "\n",
       "   Survival_rate  Fare_per_person  Sex_2  Embarked_2  Embarked_3  Deck_2  \\\n",
       "0           0.00          7.25000    1.0         0.0         1.0     0.0   \n",
       "1           0.25         35.64165    0.0         0.0         0.0     0.0   \n",
       "2           1.00          7.92500    0.0         0.0         1.0     0.0   \n",
       "3           0.25         26.55000    0.0         0.0         1.0     0.0   \n",
       "4           0.00          8.05000    1.0         0.0         1.0     0.0   \n",
       "\n",
       "   Deck_3  \n",
       "0     1.0  \n",
       "1     0.0  \n",
       "2     1.0  \n",
       "3     0.0  \n",
       "4     1.0  "
      ]
     },
     "execution_count": 3,
     "metadata": {},
     "output_type": "execute_result"
    }
   ],
   "source": [
    "df_train.head()"
   ]
  },
  {
   "cell_type": "code",
   "execution_count": 4,
   "metadata": {
    "pycharm": {
     "name": "#%%\n"
    },
    "scrolled": true
   },
   "outputs": [
    {
     "data": {
      "text/html": [
       "<div>\n",
       "<style scoped>\n",
       "    .dataframe tbody tr th:only-of-type {\n",
       "        vertical-align: middle;\n",
       "    }\n",
       "\n",
       "    .dataframe tbody tr th {\n",
       "        vertical-align: top;\n",
       "    }\n",
       "\n",
       "    .dataframe thead th {\n",
       "        text-align: right;\n",
       "    }\n",
       "</style>\n",
       "<table border=\"1\" class=\"dataframe\">\n",
       "  <thead>\n",
       "    <tr style=\"text-align: right;\">\n",
       "      <th></th>\n",
       "      <th>PassengerId</th>\n",
       "      <th>Survived</th>\n",
       "      <th>Pclass</th>\n",
       "      <th>Age</th>\n",
       "      <th>Family_size</th>\n",
       "      <th>Ticket_frequency</th>\n",
       "      <th>Survival_rate</th>\n",
       "      <th>Fare_per_person</th>\n",
       "      <th>Sex_2</th>\n",
       "      <th>Embarked_2</th>\n",
       "      <th>Embarked_3</th>\n",
       "      <th>Deck_2</th>\n",
       "      <th>Deck_3</th>\n",
       "    </tr>\n",
       "  </thead>\n",
       "  <tbody>\n",
       "    <tr>\n",
       "      <th>0</th>\n",
       "      <td>892</td>\n",
       "      <td>NaN</td>\n",
       "      <td>3</td>\n",
       "      <td>34.5</td>\n",
       "      <td>1</td>\n",
       "      <td>1</td>\n",
       "      <td>0.00</td>\n",
       "      <td>7.82920</td>\n",
       "      <td>1.0</td>\n",
       "      <td>1.0</td>\n",
       "      <td>0.0</td>\n",
       "      <td>0.0</td>\n",
       "      <td>1.0</td>\n",
       "    </tr>\n",
       "    <tr>\n",
       "      <th>1</th>\n",
       "      <td>893</td>\n",
       "      <td>NaN</td>\n",
       "      <td>3</td>\n",
       "      <td>47.0</td>\n",
       "      <td>2</td>\n",
       "      <td>1</td>\n",
       "      <td>0.00</td>\n",
       "      <td>7.00000</td>\n",
       "      <td>0.0</td>\n",
       "      <td>0.0</td>\n",
       "      <td>1.0</td>\n",
       "      <td>0.0</td>\n",
       "      <td>1.0</td>\n",
       "    </tr>\n",
       "    <tr>\n",
       "      <th>2</th>\n",
       "      <td>894</td>\n",
       "      <td>NaN</td>\n",
       "      <td>2</td>\n",
       "      <td>62.0</td>\n",
       "      <td>1</td>\n",
       "      <td>1</td>\n",
       "      <td>0.00</td>\n",
       "      <td>9.68750</td>\n",
       "      <td>1.0</td>\n",
       "      <td>1.0</td>\n",
       "      <td>0.0</td>\n",
       "      <td>0.0</td>\n",
       "      <td>1.0</td>\n",
       "    </tr>\n",
       "    <tr>\n",
       "      <th>3</th>\n",
       "      <td>895</td>\n",
       "      <td>NaN</td>\n",
       "      <td>3</td>\n",
       "      <td>27.0</td>\n",
       "      <td>1</td>\n",
       "      <td>1</td>\n",
       "      <td>0.00</td>\n",
       "      <td>8.66250</td>\n",
       "      <td>1.0</td>\n",
       "      <td>0.0</td>\n",
       "      <td>1.0</td>\n",
       "      <td>0.0</td>\n",
       "      <td>1.0</td>\n",
       "    </tr>\n",
       "    <tr>\n",
       "      <th>4</th>\n",
       "      <td>896</td>\n",
       "      <td>NaN</td>\n",
       "      <td>3</td>\n",
       "      <td>22.0</td>\n",
       "      <td>3</td>\n",
       "      <td>2</td>\n",
       "      <td>0.25</td>\n",
       "      <td>6.14375</td>\n",
       "      <td>0.0</td>\n",
       "      <td>0.0</td>\n",
       "      <td>1.0</td>\n",
       "      <td>0.0</td>\n",
       "      <td>1.0</td>\n",
       "    </tr>\n",
       "  </tbody>\n",
       "</table>\n",
       "</div>"
      ],
      "text/plain": [
       "   PassengerId  Survived  Pclass   Age  Family_size  Ticket_frequency  \\\n",
       "0          892       NaN       3  34.5            1                 1   \n",
       "1          893       NaN       3  47.0            2                 1   \n",
       "2          894       NaN       2  62.0            1                 1   \n",
       "3          895       NaN       3  27.0            1                 1   \n",
       "4          896       NaN       3  22.0            3                 2   \n",
       "\n",
       "   Survival_rate  Fare_per_person  Sex_2  Embarked_2  Embarked_3  Deck_2  \\\n",
       "0           0.00          7.82920    1.0         1.0         0.0     0.0   \n",
       "1           0.00          7.00000    0.0         0.0         1.0     0.0   \n",
       "2           0.00          9.68750    1.0         1.0         0.0     0.0   \n",
       "3           0.00          8.66250    1.0         0.0         1.0     0.0   \n",
       "4           0.25          6.14375    0.0         0.0         1.0     0.0   \n",
       "\n",
       "   Deck_3  \n",
       "0     1.0  \n",
       "1     1.0  \n",
       "2     1.0  \n",
       "3     1.0  \n",
       "4     1.0  "
      ]
     },
     "execution_count": 4,
     "metadata": {},
     "output_type": "execute_result"
    }
   ],
   "source": [
    "df_Kaggle.head()"
   ]
  },
  {
   "cell_type": "code",
   "execution_count": 5,
   "metadata": {
    "pycharm": {
     "name": "#%% md\n"
    }
   },
   "outputs": [],
   "source": [
    "drop_columns=['PassengerId', 'Survived']\n",
    "X = df_train.drop(columns=drop_columns)\n",
    "y = df_train['Survived']"
   ]
  },
  {
   "cell_type": "markdown",
   "metadata": {},
   "source": [
    "I will split train data into train and test set in order to check quality of prediction on test set"
   ]
  },
  {
   "cell_type": "code",
   "execution_count": 6,
   "metadata": {
    "pycharm": {
     "name": "#%%\n"
    }
   },
   "outputs": [],
   "source": [
    "X_train_s, X_test_s, y_train, y_test = train_test_split(X, y, test_size=0.2, random_state=1)\n",
    "X_Kaggle_s = df_Kaggle.drop(columns=drop_columns)"
   ]
  },
  {
   "cell_type": "code",
   "execution_count": 7,
   "metadata": {},
   "outputs": [],
   "source": [
    "sc = StandardScaler()\n",
    "X_train_sc = sc.fit_transform(X_train_s)\n",
    "X_test_sc = sc.transform(X_test_s)\n",
    "X_Kaggle_sc = sc.transform(df_Kaggle.drop(columns=drop_columns))"
   ]
  },
  {
   "cell_type": "code",
   "execution_count": 8,
   "metadata": {},
   "outputs": [],
   "source": [
    "from sklearn.metrics import classification_report, confusion_matrix, accuracy_score\n",
    "\n",
    "def report(y_pred):\n",
    "    print('\\nClassification report')    \n",
    "    print(classification_report(y_test, y_pred))\n",
    "    print('\\nConfusion matrix')\n",
    "    print(confusion_matrix(y_test, y_pred))\n",
    "    print('\\n')"
   ]
  },
  {
   "cell_type": "code",
   "execution_count": 9,
   "metadata": {},
   "outputs": [],
   "source": [
    "def save(y_pred, model_name):\n",
    "    submission = pd.DataFrame({\n",
    "            \"PassengerId\": df_Kaggle[\"PassengerId\"],\n",
    "            \"Survived\": y_pred\n",
    "            },dtype=np.int32)\n",
    "    submission.to_csv('E:\\\\PycharmProjects\\\\Kaggle\\\\Titanic\\\\data\\\\submission_' + model_name + '.csv', index=False)\n",
    "    return submission"
   ]
  },
  {
   "cell_type": "markdown",
   "metadata": {
    "pycharm": {
     "name": "#%%\n"
    }
   },
   "source": [
    "## 2.2. Prediction with various models"
   ]
  },
  {
   "cell_type": "code",
   "execution_count": 10,
   "metadata": {
    "pycharm": {
     "name": "#%%\n"
    }
   },
   "outputs": [],
   "source": [
    "from sklearn.linear_model import LogisticRegression\n",
    "# from sklearn.ensemble import RandomForestRegressor\n",
    "from sklearn.ensemble import RandomForestClassifier\n",
    "from sklearn.tree import DecisionTreeClassifier\n",
    "from xgboost import XGBClassifier\n",
    "from sklearn.linear_model import SGDClassifier\n",
    "from sklearn.naive_bayes import GaussianNB\n",
    "from sklearn.svm import SVC\n",
    "from sklearn.neighbors import KNeighborsClassifier\n",
    "from sklearn.model_selection import cross_val_score"
   ]
  },
  {
   "cell_type": "code",
   "execution_count": 11,
   "metadata": {
    "pycharm": {
     "name": "#%%\n"
    }
   },
   "outputs": [],
   "source": [
    "models = {'Logistic Regression' : LogisticRegression(max_iter=500),\n",
    "          'Random forest' : RandomForestClassifier(random_state=0),\n",
    "          'Decision tree': DecisionTreeClassifier(),\n",
    "          'XGDBoost' : XGBClassifier(use_label_encoder=False, eval_metric='logloss'),\n",
    "          'Stochastic gradient descent' : SGDClassifier(random_state=0),\n",
    "          'Naive Bayes' : GaussianNB(),\n",
    "          'Support Vector Classifier' : SVC(C=0.1, gamma=1, kernel='linear'),\n",
    "          'KNN' : KNeighborsClassifier(n_neighbors=3)\n",
    "         }"
   ]
  },
  {
   "cell_type": "code",
   "execution_count": 12,
   "metadata": {},
   "outputs": [
    {
     "name": "stdout",
     "output_type": "stream",
     "text": [
      "\n",
      "Logistic Regression\n",
      "\n",
      "Classification report\n",
      "              precision    recall  f1-score   support\n",
      "\n",
      "         0.0       0.92      0.96      0.94       106\n",
      "         1.0       0.94      0.88      0.91        73\n",
      "\n",
      "    accuracy                           0.93       179\n",
      "   macro avg       0.93      0.92      0.92       179\n",
      "weighted avg       0.93      0.93      0.93       179\n",
      "\n",
      "\n",
      "Confusion matrix\n",
      "[[102   4]\n",
      " [  9  64]]\n",
      "\n",
      "\n",
      "Accuracy: 0.927\n",
      "Feature: 0, Score: 0.0480\n",
      "Feature: 1, Score: 0.0205\n",
      "Feature: 2, Score: 0.0045\n",
      "Feature: 3, Score: 0.0171\n",
      "Feature: 4, Score: 0.2638\n",
      "Feature: 5, Score: -0.0011\n",
      "Feature: 6, Score: 0.0941\n",
      "Feature: 7, Score: -0.0020\n",
      "Feature: 8, Score: -0.0003\n",
      "Feature: 9, Score: 0.0000\n",
      "Feature: 10, Score: -0.0014\n"
     ]
    },
    {
     "data": {
      "image/png": "[encoded data removed]",
      "text/plain": [
       "<Figure size 720x432 with 1 Axes>"
      ]
     },
     "metadata": {
      "needs_background": "light"
     },
     "output_type": "display_data"
    },
    {
     "name": "stdout",
     "output_type": "stream",
     "text": [
      "\n",
      "Random forest\n",
      "\n",
      "Classification report\n",
      "              precision    recall  f1-score   support\n",
      "\n",
      "         0.0       0.96      0.97      0.97       106\n",
      "         1.0       0.96      0.95      0.95        73\n",
      "\n",
      "    accuracy                           0.96       179\n",
      "   macro avg       0.96      0.96      0.96       179\n",
      "weighted avg       0.96      0.96      0.96       179\n",
      "\n",
      "\n",
      "Confusion matrix\n",
      "[[103   3]\n",
      " [  4  69]]\n",
      "\n",
      "\n",
      "Accuracy: 0.961\n",
      "Feature: 0, Score: 0.0008\n",
      "Feature: 1, Score: 0.0278\n",
      "Feature: 2, Score: 0.0048\n",
      "Feature: 3, Score: 0.0051\n",
      "Feature: 4, Score: 0.3949\n",
      "Feature: 5, Score: 0.0042\n",
      "Feature: 6, Score: 0.0848\n",
      "Feature: 7, Score: 0.0000\n",
      "Feature: 8, Score: 0.0022\n",
      "Feature: 9, Score: 0.0017\n",
      "Feature: 10, Score: 0.0048\n"
     ]
    },
    {
     "data": {
      "image/png": "[encoded data removed]",
      "text/plain": [
       "<Figure size 720x432 with 1 Axes>"
      ]
     },
     "metadata": {
      "needs_background": "light"
     },
     "output_type": "display_data"
    },
    {
     "name": "stdout",
     "output_type": "stream",
     "text": [
      "feature     Survival_rate  Sex_2    Age  Fare_per_person  Pclass  \\\n",
      "importance          0.612  0.158  0.057             0.05   0.031   \n",
      "\n",
      "feature     Ticket_frequency  Family_size  Deck_3  Deck_2  Embarked_3  \\\n",
      "importance              0.03        0.026   0.019   0.008       0.007   \n",
      "\n",
      "feature     Embarked_2  \n",
      "importance       0.002  \n"
     ]
    },
    {
     "data": {
      "text/plain": [
       "<Figure size 432x288 with 0 Axes>"
      ]
     },
     "metadata": {},
     "output_type": "display_data"
    },
    {
     "data": {
      "image/png": "[encoded data removed]",
      "text/plain": [
       "<Figure size 720x432 with 1 Axes>"
      ]
     },
     "metadata": {
      "needs_background": "light"
     },
     "output_type": "display_data"
    },
    {
     "name": "stdout",
     "output_type": "stream",
     "text": [
      "\n",
      "Decision tree\n",
      "\n",
      "Classification report\n",
      "              precision    recall  f1-score   support\n",
      "\n",
      "         0.0       0.96      0.99      0.98       106\n",
      "         1.0       0.99      0.95      0.97        73\n",
      "\n",
      "    accuracy                           0.97       179\n",
      "   macro avg       0.97      0.97      0.97       179\n",
      "weighted avg       0.97      0.97      0.97       179\n",
      "\n",
      "\n",
      "Confusion matrix\n",
      "[[105   1]\n",
      " [  4  69]]\n",
      "\n",
      "\n",
      "Accuracy: 0.972\n",
      "Feature: 0, Score: 0.0020\n",
      "Feature: 1, Score: 0.0267\n",
      "Feature: 2, Score: 0.0045\n",
      "Feature: 3, Score: 0.0143\n",
      "Feature: 4, Score: 0.3978\n",
      "Feature: 5, Score: 0.0048\n",
      "Feature: 6, Score: 0.0817\n",
      "Feature: 7, Score: 0.0000\n",
      "Feature: 8, Score: 0.0034\n",
      "Feature: 9, Score: 0.0065\n",
      "Feature: 10, Score: 0.0000\n"
     ]
    },
    {
     "data": {
      "image/png": "[encoded data removed]",
      "text/plain": [
       "<Figure size 720x432 with 1 Axes>"
      ]
     },
     "metadata": {
      "needs_background": "light"
     },
     "output_type": "display_data"
    },
    {
     "name": "stdout",
     "output_type": "stream",
     "text": [
      "feature     Survival_rate    Age  Sex_2  Ticket_frequency  Fare_per_person  \\\n",
      "importance          0.859  0.056  0.053             0.009            0.007   \n",
      "\n",
      "feature     Family_size  Embarked_3  Deck_2  Pclass  Embarked_2  Deck_3  \n",
      "importance        0.005       0.005   0.004   0.003         0.0     0.0  \n"
     ]
    },
    {
     "data": {
      "text/plain": [
       "<Figure size 432x288 with 0 Axes>"
      ]
     },
     "metadata": {},
     "output_type": "display_data"
    },
    {
     "data": {
      "image/png": "[encoded data removed]",
      "text/plain": [
       "<Figure size 720x432 with 1 Axes>"
      ]
     },
     "metadata": {
      "needs_background": "light"
     },
     "output_type": "display_data"
    },
    {
     "name": "stdout",
     "output_type": "stream",
     "text": [
      "\n",
      "XGDBoost\n",
      "\n",
      "Classification report\n",
      "              precision    recall  f1-score   support\n",
      "\n",
      "         0.0       0.96      0.99      0.98       106\n",
      "         1.0       0.99      0.95      0.97        73\n",
      "\n",
      "    accuracy                           0.97       179\n",
      "   macro avg       0.97      0.97      0.97       179\n",
      "weighted avg       0.97      0.97      0.97       179\n",
      "\n",
      "\n",
      "Confusion matrix\n",
      "[[105   1]\n",
      " [  4  69]]\n",
      "\n",
      "\n",
      "Accuracy: 0.972\n",
      "Feature: 0, Score: 0.0000\n",
      "Feature: 1, Score: 0.0323\n",
      "Feature: 2, Score: 0.0051\n",
      "Feature: 3, Score: 0.0034\n",
      "Feature: 4, Score: 0.3860\n",
      "Feature: 5, Score: 0.0034\n",
      "Feature: 6, Score: 0.0840\n",
      "Feature: 7, Score: 0.0000\n",
      "Feature: 8, Score: 0.0039\n",
      "Feature: 9, Score: 0.0000\n",
      "Feature: 10, Score: 0.0067\n"
     ]
    },
    {
     "data": {
      "image/png": "[encoded data removed]",
      "text/plain": [
       "<Figure size 720x432 with 1 Axes>"
      ]
     },
     "metadata": {
      "needs_background": "light"
     },
     "output_type": "display_data"
    },
    {
     "name": "stdout",
     "output_type": "stream",
     "text": [
      "feature     Survival_rate  Sex_2    Age  Deck_3  Family_size  \\\n",
      "importance          0.741  0.164  0.026   0.017        0.013   \n",
      "\n",
      "feature     Ticket_frequency  Embarked_3  Pclass  Fare_per_person  Embarked_2  \\\n",
      "importance             0.012       0.012   0.008            0.007         0.0   \n",
      "\n",
      "feature     Deck_2  \n",
      "importance     0.0  \n"
     ]
    },
    {
     "data": {
      "text/plain": [
       "<Figure size 432x288 with 0 Axes>"
      ]
     },
     "metadata": {},
     "output_type": "display_data"
    },
    {
     "data": {
      "image/png": "[encoded data removed]",
      "text/plain": [
       "<Figure size 720x432 with 1 Axes>"
      ]
     },
     "metadata": {
      "needs_background": "light"
     },
     "output_type": "display_data"
    },
    {
     "name": "stdout",
     "output_type": "stream",
     "text": [
      "\n",
      "Stochastic gradient descent\n",
      "\n",
      "Classification report\n",
      "              precision    recall  f1-score   support\n",
      "\n",
      "         0.0       0.93      0.95      0.94       106\n",
      "         1.0       0.93      0.89      0.91        73\n",
      "\n",
      "    accuracy                           0.93       179\n",
      "   macro avg       0.93      0.92      0.92       179\n",
      "weighted avg       0.93      0.93      0.93       179\n",
      "\n",
      "\n",
      "Confusion matrix\n",
      "[[101   5]\n",
      " [  8  65]]\n",
      "\n",
      "\n",
      "Accuracy: 0.927\n",
      "Feature: 0, Score: 0.0000\n",
      "Feature: 1, Score: 0.0323\n",
      "Feature: 2, Score: 0.0051\n",
      "Feature: 3, Score: 0.0034\n",
      "Feature: 4, Score: 0.3860\n",
      "Feature: 5, Score: 0.0034\n",
      "Feature: 6, Score: 0.0840\n",
      "Feature: 7, Score: 0.0000\n",
      "Feature: 8, Score: 0.0039\n",
      "Feature: 9, Score: 0.0000\n",
      "Feature: 10, Score: 0.0067\n"
     ]
    },
    {
     "data": {
      "image/png": "[encoded data removed]",
      "text/plain": [
       "<Figure size 720x432 with 1 Axes>"
      ]
     },
     "metadata": {
      "needs_background": "light"
     },
     "output_type": "display_data"
    },
    {
     "name": "stdout",
     "output_type": "stream",
     "text": [
      "Feature: 0, Score: 0.0253\n",
      "Feature: 1, Score: -0.0081\n",
      "Feature: 2, Score: 0.0107\n",
      "Feature: 3, Score: 0.0174\n",
      "Feature: 4, Score: 0.2272\n",
      "Feature: 5, Score: 0.0056\n",
      "Feature: 6, Score: 0.1000\n",
      "Feature: 7, Score: 0.0000\n",
      "Feature: 8, Score: -0.0039\n",
      "Feature: 9, Score: 0.0053\n",
      "Feature: 10, Score: 0.0008\n"
     ]
    },
    {
     "data": {
      "image/png": "[encoded data removed]",
      "text/plain": [
       "<Figure size 720x432 with 1 Axes>"
      ]
     },
     "metadata": {
      "needs_background": "light"
     },
     "output_type": "display_data"
    },
    {
     "name": "stdout",
     "output_type": "stream",
     "text": [
      "\n",
      "Naive Bayes\n",
      "\n",
      "Classification report\n",
      "              precision    recall  f1-score   support\n",
      "\n",
      "         0.0       0.93      0.87      0.90       106\n",
      "         1.0       0.82      0.90      0.86        73\n",
      "\n",
      "    accuracy                           0.88       179\n",
      "   macro avg       0.88      0.89      0.88       179\n",
      "weighted avg       0.89      0.88      0.88       179\n",
      "\n",
      "\n",
      "Confusion matrix\n",
      "[[92 14]\n",
      " [ 7 66]]\n",
      "\n",
      "\n",
      "Accuracy: 0.883\n",
      "Feature: 0, Score: -0.0126\n",
      "Feature: 1, Score: 0.0017\n",
      "Feature: 2, Score: 0.0037\n",
      "Feature: 3, Score: 0.0042\n",
      "Feature: 4, Score: 0.2730\n",
      "Feature: 5, Score: -0.0067\n",
      "Feature: 6, Score: 0.0174\n",
      "Feature: 7, Score: 0.0003\n",
      "Feature: 8, Score: 0.0034\n",
      "Feature: 9, Score: 0.0267\n",
      "Feature: 10, Score: -0.0048\n"
     ]
    },
    {
     "data": {
      "image/png": "[encoded data removed]",
      "text/plain": [
       "<Figure size 720x432 with 1 Axes>"
      ]
     },
     "metadata": {
      "needs_background": "light"
     },
     "output_type": "display_data"
    },
    {
     "name": "stdout",
     "output_type": "stream",
     "text": [
      "\n",
      "Support Vector Classifier\n",
      "\n",
      "Classification report\n",
      "              precision    recall  f1-score   support\n",
      "\n",
      "         0.0       0.92      0.96      0.94       106\n",
      "         1.0       0.94      0.88      0.91        73\n",
      "\n",
      "    accuracy                           0.93       179\n",
      "   macro avg       0.93      0.92      0.92       179\n",
      "weighted avg       0.93      0.93      0.93       179\n",
      "\n",
      "\n",
      "Confusion matrix\n",
      "[[102   4]\n",
      " [  9  64]]\n",
      "\n",
      "\n",
      "Accuracy: 0.927\n",
      "Feature: 0, Score: -0.0126\n",
      "Feature: 1, Score: 0.0017\n",
      "Feature: 2, Score: 0.0037\n",
      "Feature: 3, Score: 0.0042\n",
      "Feature: 4, Score: 0.2730\n",
      "Feature: 5, Score: -0.0067\n",
      "Feature: 6, Score: 0.0174\n",
      "Feature: 7, Score: 0.0003\n",
      "Feature: 8, Score: 0.0034\n",
      "Feature: 9, Score: 0.0267\n",
      "Feature: 10, Score: -0.0048\n"
     ]
    },
    {
     "data": {
      "image/png": "[encoded data removed]",
      "text/plain": [
       "<Figure size 720x432 with 1 Axes>"
      ]
     },
     "metadata": {
      "needs_background": "light"
     },
     "output_type": "display_data"
    },
    {
     "name": "stdout",
     "output_type": "stream",
     "text": [
      "Feature: 0, Score: 0.0663\n",
      "Feature: 1, Score: 0.0309\n",
      "Feature: 2, Score: 0.0098\n",
      "Feature: 3, Score: 0.0096\n",
      "Feature: 4, Score: 0.2626\n",
      "Feature: 5, Score: -0.0006\n",
      "Feature: 6, Score: 0.0958\n",
      "Feature: 7, Score: 0.0003\n",
      "Feature: 8, Score: 0.0037\n",
      "Feature: 9, Score: 0.0006\n",
      "Feature: 10, Score: -0.0011\n"
     ]
    },
    {
     "data": {
      "image/png": "[encoded data removed]",
      "text/plain": [
       "<Figure size 720x432 with 1 Axes>"
      ]
     },
     "metadata": {
      "needs_background": "light"
     },
     "output_type": "display_data"
    },
    {
     "name": "stdout",
     "output_type": "stream",
     "text": [
      "\n",
      "KNN\n",
      "\n",
      "Classification report\n",
      "              precision    recall  f1-score   support\n",
      "\n",
      "         0.0       0.93      0.96      0.94       106\n",
      "         1.0       0.94      0.89      0.92        73\n",
      "\n",
      "    accuracy                           0.93       179\n",
      "   macro avg       0.93      0.93      0.93       179\n",
      "weighted avg       0.93      0.93      0.93       179\n",
      "\n",
      "\n",
      "Confusion matrix\n",
      "[[102   4]\n",
      " [  8  65]]\n",
      "\n",
      "\n",
      "Accuracy: 0.933\n",
      "Feature: 0, Score: 0.0191\n",
      "Feature: 1, Score: 0.0303\n",
      "Feature: 2, Score: 0.0135\n",
      "Feature: 3, Score: 0.0250\n",
      "Feature: 4, Score: 0.1952\n",
      "Feature: 5, Score: 0.0034\n",
      "Feature: 6, Score: 0.1121\n",
      "Feature: 7, Score: 0.0059\n",
      "Feature: 8, Score: 0.0093\n",
      "Feature: 9, Score: 0.0211\n",
      "Feature: 10, Score: 0.0014\n"
     ]
    },
    {
     "data": {
      "image/png": "[encoded data removed]",
      "text/plain": [
       "<Figure size 720x432 with 1 Axes>"
      ]
     },
     "metadata": {
      "needs_background": "light"
     },
     "output_type": "display_data"
    }
   ],
   "source": [
    "from sklearn.inspection import permutation_importance\n",
    "\n",
    "model_names = []\n",
    "accuracy = []\n",
    "\n",
    "for model_name, model in models.items():\n",
    "    if model_name == 'KNN':\n",
    "        X_train = X_train_sc\n",
    "        X_test = X_test_sc\n",
    "        X_Kaggle = X_Kaggle_sc\n",
    "    else:\n",
    "        X_train = X_train_s\n",
    "        X_test = X_test_s\n",
    "        X_Kaggle = X_Kaggle_s\n",
    "    \n",
    "    model.fit(X_train, y_train)\n",
    "    y_Kaggle = model.predict(X_Kaggle)\n",
    "    y_pred = model.predict(X_test)\n",
    "    submission = save(y_Kaggle, model_name)\n",
    "    print('\\n'+model_name)\n",
    "    model_names.append(model_name)\n",
    "    report(y_pred)\n",
    "    acc = accuracy_score(y_test, y_pred)\n",
    "    print('Accuracy: ' + str(round(acc,3)))\n",
    "    accuracy.append(acc)\n",
    "    \n",
    "    try: #for Logistic regression etc.\n",
    "        importances = model.coef_[0]\n",
    "    #     print(importance[0])\n",
    "        for i,v in enumerate(importance):\n",
    "            print('Feature: %0d, Score: %.4f' % (i,v))\n",
    "        importances = pd.Series(importance)\n",
    "        plt.figure(figsize=(10,6))\n",
    "        ax = importances.plot(kind='bar')\n",
    "        plt.show()\n",
    "    except:\n",
    "        pass\n",
    "    \n",
    "    try: #for KNN\n",
    "        # perform permutation importance\n",
    "        results = permutation_importance(model, X_train, y_train, scoring='accuracy')\n",
    "        # get importance\n",
    "        importance = results.importances_mean\n",
    "        #     print(importance[0])\n",
    "        for i,v in enumerate(importance):\n",
    "            print('Feature: %0d, Score: %.4f' % (i,v))\n",
    "        importances = pd.Series(importance)\n",
    "        plt.figure(figsize=(10,6))\n",
    "        ax = importances.plot(kind='bar')\n",
    "        plt.show()\n",
    "    except:\n",
    "        pass\n",
    "    \n",
    "    try: #for Random Forest etc.\n",
    "        importances = pd.DataFrame({'feature':X.columns,'importance':np.round(model.feature_importances_,3)})\n",
    "        importances = importances.sort_values('importance',ascending=False).set_index('feature')\n",
    "        print(importances.T)\n",
    "        plt.figure()\n",
    "        importances.plot.bar(figsize=(10,6))\n",
    "        plt.show()\n",
    "    except(AttributeError):\n",
    "        pass"
   ]
  },
  {
   "cell_type": "markdown",
   "metadata": {},
   "source": [
    "## SVC Grid search"
   ]
  },
  {
   "cell_type": "code",
   "execution_count": 13,
   "metadata": {},
   "outputs": [],
   "source": [
    "from sklearn.model_selection import GridSearchCV"
   ]
  },
  {
   "cell_type": "code",
   "execution_count": 14,
   "metadata": {},
   "outputs": [
    {
     "name": "stdout",
     "output_type": "stream",
     "text": [
      "Fitting 5 folds for each of 16 candidates, totalling 80 fits\n",
      "[CV] C=0.1, gamma=1, kernel=linear ...................................\n",
      "[CV] ....... C=0.1, gamma=1, kernel=linear, score=0.979, total=   0.0s\n",
      "[CV] C=0.1, gamma=1, kernel=linear ...................................\n",
      "[CV] ....... C=0.1, gamma=1, kernel=linear, score=0.937, total=   0.0s\n",
      "[CV] C=0.1, gamma=1, kernel=linear ...................................\n",
      "[CV] ....... C=0.1, gamma=1, kernel=linear, score=0.993, total=   0.0s\n",
      "[CV] C=0.1, gamma=1, kernel=linear ...................................\n",
      "[CV] ....... C=0.1, gamma=1, kernel=linear, score=0.965, total=   0.0s\n",
      "[CV] C=0.1, gamma=1, kernel=linear ...................................\n",
      "[CV] ....... C=0.1, gamma=1, kernel=linear, score=0.937, total=   0.0s\n",
      "[CV] C=0.1, gamma=0.1, kernel=linear .................................\n",
      "[CV] ..... C=0.1, gamma=0.1, kernel=linear, score=0.979, total=   0.0s\n",
      "[CV] C=0.1, gamma=0.1, kernel=linear .................................\n",
      "[CV] ..... C=0.1, gamma=0.1, kernel=linear, score=0.937, total=   0.0s\n",
      "[CV] C=0.1, gamma=0.1, kernel=linear .................................\n",
      "[CV] ..... C=0.1, gamma=0.1, kernel=linear, score=0.993, total=   0.0s\n",
      "[CV] C=0.1, gamma=0.1, kernel=linear .................................\n",
      "[CV] ..... C=0.1, gamma=0.1, kernel=linear, score=0.965, total=   0.0s\n",
      "[CV] C=0.1, gamma=0.1, kernel=linear .................................\n",
      "[CV] ..... C=0.1, gamma=0.1, kernel=linear, score=0.937, total=   0.0s\n",
      "[CV] C=0.1, gamma=0.01, kernel=linear ................................\n",
      "[CV] .... C=0.1, gamma=0.01, kernel=linear, score=0.979, total=   0.0s\n",
      "[CV] C=0.1, gamma=0.01, kernel=linear ................................\n",
      "[CV] .... C=0.1, gamma=0.01, kernel=linear, score=0.937, total=   0.0s\n",
      "[CV] C=0.1, gamma=0.01, kernel=linear ................................\n",
      "[CV] .... C=0.1, gamma=0.01, kernel=linear, score=0.993, total=   0.0s\n",
      "[CV] C=0.1, gamma=0.01, kernel=linear ................................\n",
      "[CV] .... C=0.1, gamma=0.01, kernel=linear, score=0.965, total=   0.0s\n",
      "[CV] C=0.1, gamma=0.01, kernel=linear ................................\n",
      "[CV] .... C=0.1, gamma=0.01, kernel=linear, score=0.937, total=   0.0s\n",
      "[CV] C=0.1, gamma=0.001, kernel=linear ...............................\n",
      "[CV] ... C=0.1, gamma=0.001, kernel=linear, score=0.979, total=   0.0s\n",
      "[CV] C=0.1, gamma=0.001, kernel=linear ...............................\n",
      "[CV] ... C=0.1, gamma=0.001, kernel=linear, score=0.937, total=   0.0s\n",
      "[CV] C=0.1, gamma=0.001, kernel=linear ...............................\n",
      "[CV] ... C=0.1, gamma=0.001, kernel=linear, score=0.993, total=   0.0s\n",
      "[CV] C=0.1, gamma=0.001, kernel=linear ...............................\n",
      "[CV] ... C=0.1, gamma=0.001, kernel=linear, score=0.965, total=   0.0s\n",
      "[CV] C=0.1, gamma=0.001, kernel=linear ...............................\n",
      "[CV] ... C=0.1, gamma=0.001, kernel=linear, score=0.937, total=   0.0s\n",
      "[CV] C=1, gamma=1, kernel=linear .....................................\n",
      "[CV] ......... C=1, gamma=1, kernel=linear, score=0.979, total=   0.0s\n",
      "[CV] C=1, gamma=1, kernel=linear .....................................\n",
      "[CV] ......... C=1, gamma=1, kernel=linear, score=0.930, total=   0.0s\n",
      "[CV] C=1, gamma=1, kernel=linear .....................................\n",
      "[CV] ......... C=1, gamma=1, kernel=linear, score=0.986, total=   0.0s\n",
      "[CV] C=1, gamma=1, kernel=linear .....................................\n",
      "[CV] ......... C=1, gamma=1, kernel=linear, score=0.972, total=   0.0s\n",
      "[CV] C=1, gamma=1, kernel=linear .....................................\n",
      "[CV] ......... C=1, gamma=1, kernel=linear, score=0.930, total=   0.0s\n",
      "[CV] C=1, gamma=0.1, kernel=linear ..................................."
     ]
    },
    {
     "name": "stderr",
     "output_type": "stream",
     "text": [
      "[Parallel(n_jobs=1)]: Using backend SequentialBackend with 1 concurrent workers.\n",
      "[Parallel(n_jobs=1)]: Done   1 out of   1 | elapsed:    0.0s remaining:    0.0s\n",
      "[Parallel(n_jobs=1)]: Done   2 out of   2 | elapsed:    0.0s remaining:    0.0s\n"
     ]
    },
    {
     "name": "stdout",
     "output_type": "stream",
     "text": [
      "\n",
      "[CV] ....... C=1, gamma=0.1, kernel=linear, score=0.979, total=   0.0s\n",
      "[CV] C=1, gamma=0.1, kernel=linear ...................................\n",
      "[CV] ....... C=1, gamma=0.1, kernel=linear, score=0.930, total=   0.0s\n",
      "[CV] C=1, gamma=0.1, kernel=linear ...................................\n",
      "[CV] ....... C=1, gamma=0.1, kernel=linear, score=0.986, total=   0.0s\n",
      "[CV] C=1, gamma=0.1, kernel=linear ...................................\n",
      "[CV] ....... C=1, gamma=0.1, kernel=linear, score=0.972, total=   0.0s\n",
      "[CV] C=1, gamma=0.1, kernel=linear ...................................\n",
      "[CV] ....... C=1, gamma=0.1, kernel=linear, score=0.930, total=   0.0s\n",
      "[CV] C=1, gamma=0.01, kernel=linear ..................................\n",
      "[CV] ...... C=1, gamma=0.01, kernel=linear, score=0.979, total=   0.0s\n",
      "[CV] C=1, gamma=0.01, kernel=linear ..................................\n",
      "[CV] ...... C=1, gamma=0.01, kernel=linear, score=0.930, total=   0.0s\n",
      "[CV] C=1, gamma=0.01, kernel=linear ..................................\n",
      "[CV] ...... C=1, gamma=0.01, kernel=linear, score=0.986, total=   0.0s\n",
      "[CV] C=1, gamma=0.01, kernel=linear ..................................\n",
      "[CV] ...... C=1, gamma=0.01, kernel=linear, score=0.972, total=   0.0s\n",
      "[CV] C=1, gamma=0.01, kernel=linear ..................................\n",
      "[CV] ...... C=1, gamma=0.01, kernel=linear, score=0.930, total=   0.0s\n",
      "[CV] C=1, gamma=0.001, kernel=linear .................................\n",
      "[CV] ..... C=1, gamma=0.001, kernel=linear, score=0.979, total=   0.0s\n",
      "[CV] C=1, gamma=0.001, kernel=linear .................................\n",
      "[CV] ..... C=1, gamma=0.001, kernel=linear, score=0.930, total=   0.0s\n",
      "[CV] C=1, gamma=0.001, kernel=linear .................................\n",
      "[CV] ..... C=1, gamma=0.001, kernel=linear, score=0.986, total=   0.0s\n",
      "[CV] C=1, gamma=0.001, kernel=linear .................................\n",
      "[CV] ..... C=1, gamma=0.001, kernel=linear, score=0.972, total=   0.0s\n",
      "[CV] C=1, gamma=0.001, kernel=linear .................................\n",
      "[CV] ..... C=1, gamma=0.001, kernel=linear, score=0.930, total=   0.0s\n",
      "[CV] C=10, gamma=1, kernel=linear ....................................\n",
      "[CV] ........ C=10, gamma=1, kernel=linear, score=0.979, total=   0.0s\n",
      "[CV] C=10, gamma=1, kernel=linear ....................................\n",
      "[CV] ........ C=10, gamma=1, kernel=linear, score=0.937, total=   0.0s\n",
      "[CV] C=10, gamma=1, kernel=linear ....................................\n",
      "[CV] ........ C=10, gamma=1, kernel=linear, score=0.986, total=   0.0s\n",
      "[CV] C=10, gamma=1, kernel=linear ....................................\n",
      "[CV] ........ C=10, gamma=1, kernel=linear, score=0.951, total=   0.0s\n",
      "[CV] C=10, gamma=1, kernel=linear ....................................\n",
      "[CV] ........ C=10, gamma=1, kernel=linear, score=0.930, total=   0.0s\n",
      "[CV] C=10, gamma=0.1, kernel=linear ..................................\n",
      "[CV] ...... C=10, gamma=0.1, kernel=linear, score=0.979, total=   0.0s\n",
      "[CV] C=10, gamma=0.1, kernel=linear ..................................\n",
      "[CV] ...... C=10, gamma=0.1, kernel=linear, score=0.937, total=   0.0s\n",
      "[CV] C=10, gamma=0.1, kernel=linear ..................................\n",
      "[CV] ...... C=10, gamma=0.1, kernel=linear, score=0.986, total=   0.0s\n",
      "[CV] C=10, gamma=0.1, kernel=linear ..................................\n",
      "[CV] ...... C=10, gamma=0.1, kernel=linear, score=0.951, total=   0.0s\n",
      "[CV] C=10, gamma=0.1, kernel=linear ..................................\n",
      "[CV] ...... C=10, gamma=0.1, kernel=linear, score=0.930, total=   0.0s\n",
      "[CV] C=10, gamma=0.01, kernel=linear .................................\n",
      "[CV] ..... C=10, gamma=0.01, kernel=linear, score=0.979, total=   0.0s\n",
      "[CV] C=10, gamma=0.01, kernel=linear .................................\n",
      "[CV] ..... C=10, gamma=0.01, kernel=linear, score=0.937, total=   0.0s\n",
      "[CV] C=10, gamma=0.01, kernel=linear .................................\n",
      "[CV] ..... C=10, gamma=0.01, kernel=linear, score=0.986, total=   0.0s\n",
      "[CV] C=10, gamma=0.01, kernel=linear .................................\n",
      "[CV] ..... C=10, gamma=0.01, kernel=linear, score=0.951, total=   0.0s\n",
      "[CV] C=10, gamma=0.01, kernel=linear .................................\n",
      "[CV] ..... C=10, gamma=0.01, kernel=linear, score=0.930, total=   0.0s\n",
      "[CV] C=10, gamma=0.001, kernel=linear ................................\n",
      "[CV] .... C=10, gamma=0.001, kernel=linear, score=0.979, total=   0.0s\n",
      "[CV] C=10, gamma=0.001, kernel=linear ................................\n",
      "[CV] .... C=10, gamma=0.001, kernel=linear, score=0.937, total=   0.0s\n",
      "[CV] C=10, gamma=0.001, kernel=linear ................................\n",
      "[CV] .... C=10, gamma=0.001, kernel=linear, score=0.986, total=   0.0s\n",
      "[CV] C=10, gamma=0.001, kernel=linear ................................\n",
      "[CV] .... C=10, gamma=0.001, kernel=linear, score=0.951, total=   0.0s\n",
      "[CV] C=10, gamma=0.001, kernel=linear ................................\n",
      "[CV] .... C=10, gamma=0.001, kernel=linear, score=0.930, total=   0.0s\n",
      "[CV] C=100, gamma=1, kernel=linear ...................................\n",
      "[CV] ....... C=100, gamma=1, kernel=linear, score=0.979, total=   0.1s\n",
      "[CV] C=100, gamma=1, kernel=linear ...................................\n",
      "[CV] ....... C=100, gamma=1, kernel=linear, score=0.930, total=   0.0s\n",
      "[CV] C=100, gamma=1, kernel=linear ...................................\n",
      "[CV] ....... C=100, gamma=1, kernel=linear, score=0.986, total=   0.0s\n",
      "[CV] C=100, gamma=1, kernel=linear ...................................\n",
      "[CV] ....... C=100, gamma=1, kernel=linear, score=0.958, total=   0.0s\n",
      "[CV] C=100, gamma=1, kernel=linear ...................................\n",
      "[CV] ....... C=100, gamma=1, kernel=linear, score=0.937, total=   0.1s\n",
      "[CV] C=100, gamma=0.1, kernel=linear .................................\n",
      "[CV] ..... C=100, gamma=0.1, kernel=linear, score=0.979, total=   0.0s\n",
      "[CV] C=100, gamma=0.1, kernel=linear .................................\n",
      "[CV] ..... C=100, gamma=0.1, kernel=linear, score=0.930, total=   0.0s\n",
      "[CV] C=100, gamma=0.1, kernel=linear .................................\n",
      "[CV] ..... C=100, gamma=0.1, kernel=linear, score=0.986, total=   0.0s\n",
      "[CV] C=100, gamma=0.1, kernel=linear .................................\n",
      "[CV] ..... C=100, gamma=0.1, kernel=linear, score=0.958, total=   0.0s\n",
      "[CV] C=100, gamma=0.1, kernel=linear .................................\n",
      "[CV] ..... C=100, gamma=0.1, kernel=linear, score=0.937, total=   0.1s\n",
      "[CV] C=100, gamma=0.01, kernel=linear ................................\n",
      "[CV] .... C=100, gamma=0.01, kernel=linear, score=0.979, total=   0.1s\n",
      "[CV] C=100, gamma=0.01, kernel=linear ................................\n",
      "[CV] .... C=100, gamma=0.01, kernel=linear, score=0.930, total=   0.0s\n",
      "[CV] C=100, gamma=0.01, kernel=linear ................................\n",
      "[CV] .... C=100, gamma=0.01, kernel=linear, score=0.986, total=   0.0s\n",
      "[CV] C=100, gamma=0.01, kernel=linear ................................\n",
      "[CV] .... C=100, gamma=0.01, kernel=linear, score=0.958, total=   0.0s\n",
      "[CV] C=100, gamma=0.01, kernel=linear ................................\n",
      "[CV] .... C=100, gamma=0.01, kernel=linear, score=0.937, total=   0.1s\n",
      "[CV] C=100, gamma=0.001, kernel=linear ...............................\n",
      "[CV] ... C=100, gamma=0.001, kernel=linear, score=0.979, total=   0.0s\n",
      "[CV] C=100, gamma=0.001, kernel=linear ...............................\n",
      "[CV] ... C=100, gamma=0.001, kernel=linear, score=0.930, total=   0.0s\n",
      "[CV] C=100, gamma=0.001, kernel=linear ...............................\n",
      "[CV] ... C=100, gamma=0.001, kernel=linear, score=0.986, total=   0.0s\n",
      "[CV] C=100, gamma=0.001, kernel=linear ...............................\n",
      "[CV] ... C=100, gamma=0.001, kernel=linear, score=0.958, total=   0.0s\n",
      "[CV] C=100, gamma=0.001, kernel=linear ...............................\n",
      "[CV] ... C=100, gamma=0.001, kernel=linear, score=0.937, total=   0.1s\n"
     ]
    },
    {
     "name": "stderr",
     "output_type": "stream",
     "text": [
      "[Parallel(n_jobs=1)]: Done  80 out of  80 | elapsed:    1.6s finished\n"
     ]
    },
    {
     "data": {
      "text/plain": [
       "GridSearchCV(estimator=SVC(),\n",
       "             param_grid={'C': [0.1, 1, 10, 100], 'gamma': [1, 0.1, 0.01, 0.001],\n",
       "                         'kernel': ['linear']},\n",
       "             verbose=3)"
      ]
     },
     "execution_count": 14,
     "metadata": {},
     "output_type": "execute_result"
    }
   ],
   "source": [
    "param_grid = {'C': [0.1,1, 10, 100,], 'gamma': [1,0.1,0.01,0.001], 'kernel': ['linear']} \n",
    "grid = GridSearchCV(SVC(),param_grid,refit=True,verbose=3)\n",
    "grid.fit(X_train,y_train)"
   ]
  },
  {
   "cell_type": "code",
   "execution_count": 15,
   "metadata": {},
   "outputs": [
    {
     "data": {
      "text/plain": [
       "{'C': 0.1, 'gamma': 1, 'kernel': 'linear'}"
      ]
     },
     "execution_count": 15,
     "metadata": {},
     "output_type": "execute_result"
    }
   ],
   "source": [
    "grid.best_params_"
   ]
  },
  {
   "cell_type": "code",
   "execution_count": 16,
   "metadata": {},
   "outputs": [
    {
     "data": {
      "text/plain": [
       "SVC(C=0.1, gamma=1, kernel='linear')"
      ]
     },
     "execution_count": 16,
     "metadata": {},
     "output_type": "execute_result"
    }
   ],
   "source": [
    "grid.best_estimator_"
   ]
  },
  {
   "cell_type": "code",
   "execution_count": 17,
   "metadata": {},
   "outputs": [],
   "source": [
    "y_pred_grid_svc = grid.predict(X_test)\n",
    "y_grid_svc_Kaggle = grid.predict(X_Kaggle)"
   ]
  },
  {
   "cell_type": "code",
   "execution_count": 18,
   "metadata": {},
   "outputs": [
    {
     "name": "stdout",
     "output_type": "stream",
     "text": [
      "\n",
      "Classification report\n",
      "              precision    recall  f1-score   support\n",
      "\n",
      "         0.0       0.93      0.98      0.95       106\n",
      "         1.0       0.97      0.89      0.93        73\n",
      "\n",
      "    accuracy                           0.94       179\n",
      "   macro avg       0.95      0.94      0.94       179\n",
      "weighted avg       0.95      0.94      0.94       179\n",
      "\n",
      "\n",
      "Confusion matrix\n",
      "[[104   2]\n",
      " [  8  65]]\n",
      "\n",
      "\n"
     ]
    }
   ],
   "source": [
    "report(y_pred_grid_svc)"
   ]
  },
  {
   "cell_type": "code",
   "execution_count": 19,
   "metadata": {},
   "outputs": [
    {
     "name": "stdout",
     "output_type": "stream",
     "text": [
      "0.9441340782122905\n"
     ]
    }
   ],
   "source": [
    "acc_grid_svc = accuracy_score(y_test, y_pred_grid_svc)\n",
    "print(acc_grid_svc)"
   ]
  },
  {
   "cell_type": "markdown",
   "metadata": {},
   "source": [
    "With found values of C and gamma preciction is only a little better than with default parameters."
   ]
  },
  {
   "cell_type": "markdown",
   "metadata": {},
   "source": [
    "# KNN - chosing the best n value"
   ]
  },
  {
   "cell_type": "code",
   "execution_count": 20,
   "metadata": {},
   "outputs": [],
   "source": [
    "from sklearn.neighbors import KNeighborsClassifier"
   ]
  },
  {
   "cell_type": "markdown",
   "metadata": {},
   "source": [
    "To chose the proper k value I repeat calculations for several k values and I choose the value with minimum error rate. "
   ]
  },
  {
   "cell_type": "code",
   "execution_count": 21,
   "metadata": {},
   "outputs": [],
   "source": [
    "error_rate = []\n",
    "for i in range(1,40):\n",
    "    knn = KNeighborsClassifier(n_neighbors=i)\n",
    "    knn.fit(X_train, y_train)\n",
    "    y_pred_i = knn.predict(X_test)\n",
    "    error_rate.append(np.mean(y_pred_i != y_test))"
   ]
  },
  {
   "cell_type": "code",
   "execution_count": 22,
   "metadata": {},
   "outputs": [
    {
     "data": {
      "image/png": "[encoded data removed]",
      "text/plain": [
       "<Figure size 864x432 with 1 Axes>"
      ]
     },
     "metadata": {
      "needs_background": "light"
     },
     "output_type": "display_data"
    }
   ],
   "source": [
    "plt.figure(figsize=(12,6))\n",
    "plt.plot(range(1,40), error_rate, color='blue',linestyle = 'dashed', marker='o')\n",
    "plt.xlabel('k')\n",
    "plt.ylabel('Error rate')\n",
    "plt.title('Error rate vs. k value')\n",
    "plt.show()"
   ]
  },
  {
   "cell_type": "markdown",
   "metadata": {},
   "source": [
    "Since in general kNN with k=1 implies over-fitting, I choose k=3"
   ]
  },
  {
   "cell_type": "markdown",
   "metadata": {},
   "source": [
    "## Prediction results sumarry"
   ]
  },
  {
   "cell_type": "code",
   "execution_count": 23,
   "metadata": {},
   "outputs": [
    {
     "data": {
      "text/html": [
       "<div>\n",
       "<style scoped>\n",
       "    .dataframe tbody tr th:only-of-type {\n",
       "        vertical-align: middle;\n",
       "    }\n",
       "\n",
       "    .dataframe tbody tr th {\n",
       "        vertical-align: top;\n",
       "    }\n",
       "\n",
       "    .dataframe thead th {\n",
       "        text-align: right;\n",
       "    }\n",
       "</style>\n",
       "<table border=\"1\" class=\"dataframe\">\n",
       "  <thead>\n",
       "    <tr style=\"text-align: right;\">\n",
       "      <th></th>\n",
       "      <th>Score</th>\n",
       "    </tr>\n",
       "    <tr>\n",
       "      <th>Model</th>\n",
       "      <th></th>\n",
       "    </tr>\n",
       "  </thead>\n",
       "  <tbody>\n",
       "    <tr>\n",
       "      <th>Decision tree</th>\n",
       "      <td>0.972067</td>\n",
       "    </tr>\n",
       "    <tr>\n",
       "      <th>XGDBoost</th>\n",
       "      <td>0.972067</td>\n",
       "    </tr>\n",
       "    <tr>\n",
       "      <th>Random forest</th>\n",
       "      <td>0.960894</td>\n",
       "    </tr>\n",
       "    <tr>\n",
       "      <th>KNN</th>\n",
       "      <td>0.932961</td>\n",
       "    </tr>\n",
       "    <tr>\n",
       "      <th>Logistic Regression</th>\n",
       "      <td>0.927374</td>\n",
       "    </tr>\n",
       "    <tr>\n",
       "      <th>Stochastic gradient descent</th>\n",
       "      <td>0.927374</td>\n",
       "    </tr>\n",
       "    <tr>\n",
       "      <th>Support Vector Classifier</th>\n",
       "      <td>0.927374</td>\n",
       "    </tr>\n",
       "    <tr>\n",
       "      <th>Naive Bayes</th>\n",
       "      <td>0.882682</td>\n",
       "    </tr>\n",
       "  </tbody>\n",
       "</table>\n",
       "</div>"
      ],
      "text/plain": [
       "                                Score\n",
       "Model                                \n",
       "Decision tree                0.972067\n",
       "XGDBoost                     0.972067\n",
       "Random forest                0.960894\n",
       "KNN                          0.932961\n",
       "Logistic Regression          0.927374\n",
       "Stochastic gradient descent  0.927374\n",
       "Support Vector Classifier    0.927374\n",
       "Naive Bayes                  0.882682"
      ]
     },
     "execution_count": 23,
     "metadata": {},
     "output_type": "execute_result"
    }
   ],
   "source": [
    "results = pd.DataFrame({\n",
    "    'Model': model_names,\n",
    "    'Score': accuracy})\n",
    "result_df = results.sort_values(by='Score', ascending=False)\n",
    "result_df = result_df.set_index('Model')\n",
    "result_df"
   ]
  },
  {
   "cell_type": "markdown",
   "metadata": {},
   "source": [
    "### Results of predictions on Kaggle test set"
   ]
  },
  {
   "cell_type": "markdown",
   "metadata": {},
   "source": [
    "After checking all generated submission datasets I see huge discrepacy between results on Kaggle webside and on test set. \n",
    "It is due to the fact, that feature ```Survived_rate``` for original train set used to make train_test_split and further \n",
    "model evaluation is calculated based mostly on well known ```Survived``` feature in train set. The values of ```Survived_rate```\n",
    "for real test set are evaluated on the basis of known values from train set and sometimes estimation is not working well.\n",
    "Only KNN works better than simple gender submission. It indicates that I did sth wrong during feature engineering, \n",
    "I have to look at that later."
   ]
  },
  {
   "cell_type": "markdown",
   "metadata": {},
   "source": [
    "## K-fold cross validation"
   ]
  },
  {
   "cell_type": "code",
   "execution_count": 24,
   "metadata": {},
   "outputs": [],
   "source": [
    "# pd.read_csv('E:\\\\PycharmProjects\\\\Kaggle\\\\Titanic\\\\data\\\\summary.csv').sort_values(by='publicScore', ascending = False)"
   ]
  },
  {
   "cell_type": "code",
   "execution_count": 25,
   "metadata": {},
   "outputs": [
    {
     "name": "stdout",
     "output_type": "stream",
     "text": [
      "Scores: [0.97222222 0.95833333 0.94366197 0.91549296 0.98591549 0.95774648\n",
      " 0.94366197 0.94366197 0.92957746 0.90140845]\n",
      "Mean: 0.9451682316118937\n",
      "Standard Deviation: 0.02401917711418485\n",
      "\n",
      "Logistic Regression\n",
      "\n",
      "Classification report\n",
      "              precision    recall  f1-score   support\n",
      "\n",
      "         0.0       0.92      0.96      0.94       106\n",
      "         1.0       0.94      0.88      0.91        73\n",
      "\n",
      "    accuracy                           0.93       179\n",
      "   macro avg       0.93      0.92      0.92       179\n",
      "weighted avg       0.93      0.93      0.93       179\n",
      "\n",
      "\n",
      "Confusion matrix\n",
      "[[102   4]\n",
      " [  9  64]]\n",
      "\n",
      "\n",
      "Accuracy: 0.927\n",
      "Accuracy:  95.51 %\n",
      "Scores: [0.97222222 0.95833333 0.92957746 0.92957746 1.         0.98591549\n",
      " 0.98591549 1.         0.98591549 0.94366197]\n",
      "Mean: 0.9691118935837245\n",
      "Standard Deviation: 0.025796754126358824\n",
      "\n",
      "Random forest\n",
      "\n",
      "Classification report\n",
      "              precision    recall  f1-score   support\n",
      "\n",
      "         0.0       0.96      0.97      0.97       106\n",
      "         1.0       0.96      0.95      0.95        73\n",
      "\n",
      "    accuracy                           0.96       179\n",
      "   macro avg       0.96      0.96      0.96       179\n",
      "weighted avg       0.96      0.96      0.96       179\n",
      "\n",
      "\n",
      "Confusion matrix\n",
      "[[103   3]\n",
      " [  4  69]]\n",
      "\n",
      "\n",
      "Accuracy: 0.961\n",
      "Accuracy:  100.0 %\n",
      "Scores: [0.97222222 0.95833333 0.95774648 0.92957746 0.97183099 0.98591549\n",
      " 0.98591549 1.         0.97183099 0.95774648]\n",
      "Mean: 0.9691118935837245\n",
      "Standard Deviation: 0.01865677307731829\n",
      "\n",
      "Decision tree\n",
      "\n",
      "Classification report\n",
      "              precision    recall  f1-score   support\n",
      "\n",
      "         0.0       0.95      1.00      0.98       106\n",
      "         1.0       1.00      0.93      0.96        73\n",
      "\n",
      "    accuracy                           0.97       179\n",
      "   macro avg       0.98      0.97      0.97       179\n",
      "weighted avg       0.97      0.97      0.97       179\n",
      "\n",
      "\n",
      "Confusion matrix\n",
      "[[106   0]\n",
      " [  5  68]]\n",
      "\n",
      "\n",
      "Accuracy: 0.972\n",
      "Accuracy:  100.0 %\n",
      "Scores: [0.98611111 1.         0.92957746 0.94366197 0.97183099 0.98591549\n",
      " 0.98591549 0.97183099 0.97183099 0.94366197]\n",
      "Mean: 0.9690336463223789\n",
      "Standard Deviation: 0.02165238480155509\n",
      "\n",
      "XGDBoost\n",
      "\n",
      "Classification report\n",
      "              precision    recall  f1-score   support\n",
      "\n",
      "         0.0       0.96      0.99      0.98       106\n",
      "         1.0       0.99      0.95      0.97        73\n",
      "\n",
      "    accuracy                           0.97       179\n",
      "   macro avg       0.97      0.97      0.97       179\n",
      "weighted avg       0.97      0.97      0.97       179\n",
      "\n",
      "\n",
      "Confusion matrix\n",
      "[[105   1]\n",
      " [  4  69]]\n",
      "\n",
      "\n",
      "Accuracy: 0.972\n",
      "Accuracy:  100.0 %\n",
      "Scores: [0.875      0.91666667 0.71830986 0.84507042 0.95774648 0.90140845\n",
      " 0.91549296 0.87323944 0.91549296 0.73239437]\n",
      "Mean: 0.8650821596244131\n",
      "Standard Deviation: 0.07573854173640787\n",
      "\n",
      "Stochastic gradient descent\n",
      "\n",
      "Classification report\n",
      "              precision    recall  f1-score   support\n",
      "\n",
      "         0.0       0.93      0.95      0.94       106\n",
      "         1.0       0.93      0.89      0.91        73\n",
      "\n",
      "    accuracy                           0.93       179\n",
      "   macro avg       0.93      0.92      0.92       179\n",
      "weighted avg       0.93      0.93      0.93       179\n",
      "\n",
      "\n",
      "Confusion matrix\n",
      "[[101   5]\n",
      " [  8  65]]\n",
      "\n",
      "\n",
      "Accuracy: 0.927\n",
      "Accuracy:  93.54 %\n",
      "Scores: [0.875      0.88888889 0.81690141 0.88732394 0.92957746 0.94366197\n",
      " 0.90140845 0.90140845 0.90140845 0.90140845]\n",
      "Mean: 0.8946987480438185\n",
      "Standard Deviation: 0.03212882122004986\n",
      "\n",
      "Naive Bayes\n",
      "\n",
      "Classification report\n",
      "              precision    recall  f1-score   support\n",
      "\n",
      "         0.0       0.93      0.87      0.90       106\n",
      "         1.0       0.82      0.90      0.86        73\n",
      "\n",
      "    accuracy                           0.88       179\n",
      "   macro avg       0.88      0.89      0.88       179\n",
      "weighted avg       0.89      0.88      0.88       179\n",
      "\n",
      "\n",
      "Confusion matrix\n",
      "[[92 14]\n",
      " [ 7 66]]\n",
      "\n",
      "\n",
      "Accuracy: 0.883\n",
      "Accuracy:  89.33 %\n",
      "Scores: [0.95833333 0.95833333 0.94366197 0.92957746 0.98591549 0.97183099\n",
      " 0.94366197 0.92957746 0.91549296 0.91549296]\n",
      "Mean: 0.94518779342723\n",
      "Standard Deviation: 0.022293055352654394\n",
      "\n",
      "Support Vector Classifier\n",
      "\n",
      "Classification report\n",
      "              precision    recall  f1-score   support\n",
      "\n",
      "         0.0       0.92      0.96      0.94       106\n",
      "         1.0       0.94      0.88      0.91        73\n",
      "\n",
      "    accuracy                           0.93       179\n",
      "   macro avg       0.93      0.92      0.92       179\n",
      "weighted avg       0.93      0.93      0.93       179\n",
      "\n",
      "\n",
      "Confusion matrix\n",
      "[[102   4]\n",
      " [  9  64]]\n",
      "\n",
      "\n",
      "Accuracy: 0.927\n",
      "Accuracy:  95.37 %\n",
      "Scores: [0.91666667 0.93055556 0.94366197 0.92957746 0.92957746 0.98591549\n",
      " 0.95774648 0.95774648 0.97183099 0.90140845]\n",
      "Mean: 0.9424687010954618\n",
      "Standard Deviation: 0.0245845327436226\n",
      "\n",
      "KNN\n",
      "\n",
      "Classification report\n",
      "              precision    recall  f1-score   support\n",
      "\n",
      "         0.0       0.93      0.96      0.94       106\n",
      "         1.0       0.94      0.89      0.92        73\n",
      "\n",
      "    accuracy                           0.93       179\n",
      "   macro avg       0.93      0.93      0.93       179\n",
      "weighted avg       0.93      0.93      0.93       179\n",
      "\n",
      "\n",
      "Confusion matrix\n",
      "[[102   4]\n",
      " [  8  65]]\n",
      "\n",
      "\n",
      "Accuracy: 0.933\n",
      "Accuracy:  96.77 %\n"
     ]
    }
   ],
   "source": [
    "model_names = []\n",
    "accuracy = []\n",
    "\n",
    "for model_name, model in models.items():\n",
    "    if model_name == 'KNN':\n",
    "        X_train = X_train_sc\n",
    "        X_test = X_test_sc\n",
    "        X_Kaggle = X_Kaggle_sc\n",
    "    else:\n",
    "        X_train = X_train_s\n",
    "        X_test = X_test_s\n",
    "        X_Kaggle = X_Kaggle_s\n",
    "    \n",
    "    scores = cross_val_score(model, X_train, y_train, cv=10, scoring = \"accuracy\")\n",
    "    print(\"Scores:\", scores)\n",
    "    print(\"Mean:\", scores.mean())\n",
    "    print(\"Standard Deviation:\", scores.std())\n",
    "    \n",
    "    model.fit(X_train, y_train)\n",
    "    y_Kaggle = model.predict(X_Kaggle)\n",
    "    y_pred = model.predict(X_test)\n",
    "    submission = save(y_Kaggle, model_name)\n",
    "    print('\\n'+model_name)\n",
    "    model_names.append(model_name)\n",
    "    report(y_pred)\n",
    "    acc = accuracy_score(y_test, y_pred)\n",
    "    print('Accuracy: ' + str(round(acc,3)))\n",
    "    accuracy.append(acc)\n",
    "    model.score(X_train, y_train)\n",
    "\n",
    "    acc_model = round(model.score(X_train, y_train) * 100, 2)\n",
    "    print('Accuracy: ', round(acc_model,2,), \"%\")"
   ]
  },
  {
   "cell_type": "code",
   "execution_count": 26,
   "metadata": {},
   "outputs": [
    {
     "data": {
      "text/html": [
       "<div>\n",
       "<style scoped>\n",
       "    .dataframe tbody tr th:only-of-type {\n",
       "        vertical-align: middle;\n",
       "    }\n",
       "\n",
       "    .dataframe tbody tr th {\n",
       "        vertical-align: top;\n",
       "    }\n",
       "\n",
       "    .dataframe thead th {\n",
       "        text-align: right;\n",
       "    }\n",
       "</style>\n",
       "<table border=\"1\" class=\"dataframe\">\n",
       "  <thead>\n",
       "    <tr style=\"text-align: right;\">\n",
       "      <th></th>\n",
       "      <th>Without CV</th>\n",
       "      <th>With CV</th>\n",
       "    </tr>\n",
       "    <tr>\n",
       "      <th>Model</th>\n",
       "      <th></th>\n",
       "      <th></th>\n",
       "    </tr>\n",
       "  </thead>\n",
       "  <tbody>\n",
       "    <tr>\n",
       "      <th>Decision tree</th>\n",
       "      <td>0.972067</td>\n",
       "      <td>0.972067</td>\n",
       "    </tr>\n",
       "    <tr>\n",
       "      <th>XGDBoost</th>\n",
       "      <td>0.972067</td>\n",
       "      <td>0.972067</td>\n",
       "    </tr>\n",
       "    <tr>\n",
       "      <th>Random forest</th>\n",
       "      <td>0.960894</td>\n",
       "      <td>0.960894</td>\n",
       "    </tr>\n",
       "    <tr>\n",
       "      <th>KNN</th>\n",
       "      <td>0.932961</td>\n",
       "      <td>0.932961</td>\n",
       "    </tr>\n",
       "    <tr>\n",
       "      <th>Logistic Regression</th>\n",
       "      <td>0.927374</td>\n",
       "      <td>0.927374</td>\n",
       "    </tr>\n",
       "    <tr>\n",
       "      <th>Stochastic gradient descent</th>\n",
       "      <td>0.927374</td>\n",
       "      <td>0.927374</td>\n",
       "    </tr>\n",
       "    <tr>\n",
       "      <th>Support Vector Classifier</th>\n",
       "      <td>0.927374</td>\n",
       "      <td>0.927374</td>\n",
       "    </tr>\n",
       "    <tr>\n",
       "      <th>Naive Bayes</th>\n",
       "      <td>0.882682</td>\n",
       "      <td>0.882682</td>\n",
       "    </tr>\n",
       "  </tbody>\n",
       "</table>\n",
       "</div>"
      ],
      "text/plain": [
       "                             Without CV   With CV\n",
       "Model                                            \n",
       "Decision tree                  0.972067  0.972067\n",
       "XGDBoost                       0.972067  0.972067\n",
       "Random forest                  0.960894  0.960894\n",
       "KNN                            0.932961  0.932961\n",
       "Logistic Regression            0.927374  0.927374\n",
       "Stochastic gradient descent    0.927374  0.927374\n",
       "Support Vector Classifier      0.927374  0.927374\n",
       "Naive Bayes                    0.882682  0.882682"
      ]
     },
     "execution_count": 26,
     "metadata": {},
     "output_type": "execute_result"
    }
   ],
   "source": [
    "results = pd.DataFrame({\n",
    "    'Model': model_names,\n",
    "    'Score': accuracy})\n",
    "result_df_cv = results.sort_values(by='Score', ascending=False)\n",
    "result_df_cv = result_df_cv.set_index('Model')\n",
    "summary = pd.merge(result_df, result_df_cv, on='Model',how='inner')\n",
    "summary.columns = ['Without CV', 'With CV']\n",
    "summary"
   ]
  },
  {
   "cell_type": "code",
   "execution_count": 27,
   "metadata": {},
   "outputs": [],
   "source": [
    "# summary.to_csv('E:\\\\PycharmProjects\\\\Kaggle\\\\Titanic\\\\data\\\\summary.csv')"
   ]
  },
  {
   "cell_type": "code",
   "execution_count": null,
   "metadata": {},
   "outputs": [],
   "source": []
  }
 ],
 "metadata": {
  "kernelspec": {
   "display_name": "Python 3",
   "language": "python",
   "name": "python3"
  },
  "language_info": {
   "codemirror_mode": {
    "name": "ipython",
    "version": 3
   },
   "file_extension": ".py",
   "mimetype": "text/x-python",
   "name": "python",
   "nbconvert_exporter": "python",
   "pygments_lexer": "ipython3",
   "version": "3.9.0"
  }
 },
 "nbformat": 4,
 "nbformat_minor": 1
}